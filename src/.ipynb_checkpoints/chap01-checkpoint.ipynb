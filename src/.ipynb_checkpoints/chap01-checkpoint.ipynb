{
 "cells": [
  {
   "cell_type": "markdown",
   "id": "760657b7",
   "metadata": {},
   "source": [
    "# chap01\n",
    "## Python 기본 문법\n",
    "### - 출력문"
   ]
  },
  {
   "cell_type": "code",
   "execution_count": 4,
   "id": "659b16f9",
   "metadata": {},
   "outputs": [
    {
     "name": "stdout",
     "output_type": "stream",
     "text": [
      "Hello, Python!!!\n"
     ]
    }
   ],
   "source": [
    "print(\"Hello, Python!!!\")"
   ]
  },
  {
   "cell_type": "code",
   "execution_count": 7,
   "id": "72637fb1",
   "metadata": {},
   "outputs": [
    {
     "name": "stdout",
     "output_type": "stream",
     "text": [
      "Hello, Python!!!\n"
     ]
    }
   ],
   "source": [
    "print(\"Hello, Python!!!\")"
   ]
  },
  {
   "cell_type": "code",
   "execution_count": 8,
   "id": "933cb882",
   "metadata": {
    "scrolled": true
   },
   "outputs": [
    {
     "name": "stdout",
     "output_type": "stream",
     "text": [
      "Hello, World!!! Happy Python.\n"
     ]
    }
   ],
   "source": [
    "print(\"Hello, World!!!\", \"Happy Python.\")"
   ]
  },
  {
   "cell_type": "markdown",
   "id": "1e86ea12",
   "metadata": {},
   "source": [
    "### - 연산 기능"
   ]
  },
  {
   "cell_type": "code",
   "execution_count": 9,
   "id": "c27351b2",
   "metadata": {},
   "outputs": [
    {
     "data": {
      "text/plain": [
       "5"
      ]
     },
     "execution_count": 9,
     "metadata": {},
     "output_type": "execute_result"
    }
   ],
   "source": [
    "3 + 2"
   ]
  },
  {
   "cell_type": "code",
   "execution_count": 12,
   "id": "ceff3321",
   "metadata": {},
   "outputs": [
    {
     "name": "stdout",
     "output_type": "stream",
     "text": [
      "6\n",
      "1\n"
     ]
    }
   ],
   "source": [
    "print(3 * 2)\n",
    "print(3 - 2)"
   ]
  },
  {
   "cell_type": "markdown",
   "id": "ab81bcbb",
   "metadata": {},
   "source": [
    "### - 주석 처리"
   ]
  },
  {
   "cell_type": "code",
   "execution_count": 14,
   "id": "5e2963eb",
   "metadata": {},
   "outputs": [],
   "source": [
    "a = 5  # a 변수 선언하고 정수값 5를 저장.\n",
    "b = 10 # b 변수 선언하고 정수값 10을 저장.\n",
    "# ''' 두 줄 이상의 주석처리 ''' -> 자바의 주석처리인 /*  */와 동일한 것임"
   ]
  },
  {
   "cell_type": "code",
   "execution_count": 15,
   "id": "b16e5f14",
   "metadata": {},
   "outputs": [
    {
     "data": {
      "text/plain": [
       "15"
      ]
     },
     "execution_count": 15,
     "metadata": {},
     "output_type": "execute_result"
    }
   ],
   "source": [
    "a + b # 선언된 변수에 담긴 데이터 읽어오기 -> 변수값을 입력해주면 해당 이름 변수의 메모리에 접근해서 데이터를 리턴해주게 될 것임"
   ]
  },
  {
   "cell_type": "code",
   "execution_count": null,
   "id": "5fcde76a",
   "metadata": {},
   "outputs": [],
   "source": []
  }
 ],
 "metadata": {
  "kernelspec": {
   "display_name": "Python [conda env:tf_cpu] *",
   "language": "python",
   "name": "conda-env-tf_cpu-py"
  },
  "language_info": {
   "codemirror_mode": {
    "name": "ipython",
    "version": 3
   },
   "file_extension": ".py",
   "mimetype": "text/x-python",
   "name": "python",
   "nbconvert_exporter": "python",
   "pygments_lexer": "ipython3",
   "version": "3.8.16"
  }
 },
 "nbformat": 4,
 "nbformat_minor": 5
}
