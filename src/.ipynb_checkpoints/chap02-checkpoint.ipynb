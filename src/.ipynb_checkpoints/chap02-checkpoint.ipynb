{
 "cells": [
  {
   "cell_type": "markdown",
   "metadata": {},
   "source": [
    "## 변수명 규칙\n",
    "### - 문자, 숫자, (_) 가능. 단, 숫자로 시작할 수 없음.\n",
    "### - 대/소문자 구별.\n",
    "### - 예약어 사용 불가능."
   ]
  },
  {
   "cell_type": "markdown",
   "metadata": {},
   "source": [
    "## - 수치형 : int, long, float, complex_복소수의 수치형 데이터 (예약어가 아님)"
   ]
  },
  {
   "cell_type": "markdown",
   "metadata": {},
   "source": [
    "### * 변수(정수)"
   ]
  },
  {
   "cell_type": "code",
   "execution_count": 22,
   "metadata": {},
   "outputs": [
    {
     "name": "stdout",
     "output_type": "stream",
     "text": [
      "123456789\n",
      "<class 'int'>\n"
     ]
    }
   ],
   "source": [
    "# 변수(정수)\n",
    "a = 123456789\n",
    "print(a)\n",
    "print(type(a)) # type()함수는 입력으로 전달받은 변수에 저장되어져 있는 데이터를 보고 그 데이터에 자료형을 반환해준다.\n",
    "#변수를 선언하면 내부에서 객체지향적으로 클래스로 감싸서 처리를 해주고 있음. 별도로 키워드를 제공해주지 않는 이유이다."
   ]
  },
  {
   "cell_type": "markdown",
   "metadata": {},
   "source": [
    "## 연산자(+, -, *, /, //, %, **(거듭제곱)) - 정수의 경우"
   ]
  },
  {
   "cell_type": "code",
   "execution_count": 23,
   "metadata": {},
   "outputs": [
    {
     "name": "stdout",
     "output_type": "stream",
     "text": [
      "7\n"
     ]
    }
   ],
   "source": [
    "b = 3 + 4\n",
    "print(b)"
   ]
  },
  {
   "cell_type": "code",
   "execution_count": 24,
   "metadata": {},
   "outputs": [
    {
     "name": "stdout",
     "output_type": "stream",
     "text": [
      "-20\n"
     ]
    }
   ],
   "source": [
    "c = 10 - 30\n",
    "print(c)"
   ]
  },
  {
   "cell_type": "code",
   "execution_count": 25,
   "metadata": {},
   "outputs": [
    {
     "name": "stdout",
     "output_type": "stream",
     "text": [
      "300\n"
     ]
    }
   ],
   "source": [
    "d = 10 * 30\n",
    "print(d)"
   ]
  },
  {
   "cell_type": "code",
   "execution_count": 26,
   "metadata": {},
   "outputs": [
    {
     "name": "stdout",
     "output_type": "stream",
     "text": [
      "3.142857142857143\n",
      "<class 'float'>\n"
     ]
    }
   ],
   "source": [
    "e = 22 / 7\n",
    "print(e)      # 결과값 : 실수\n",
    "print(type(e))\n",
    "#파이썬, R, 자바스크립트 같은 경우 정수 나누기 정수이고 나머지가 존재할 때 결과를 실수의 형태로 리턴해줌.\n",
    "#자바같은 경우에만 정수 나누기 정수는 몫만 리턴해준다."
   ]
  },
  {
   "cell_type": "code",
   "execution_count": 27,
   "metadata": {},
   "outputs": [
    {
     "name": "stdout",
     "output_type": "stream",
     "text": [
      "3\n"
     ]
    }
   ],
   "source": [
    "f = 22 // 7  # 몫 반환 연산자\n",
    "print(f)"
   ]
  },
  {
   "cell_type": "code",
   "execution_count": 28,
   "metadata": {},
   "outputs": [
    {
     "name": "stdout",
     "output_type": "stream",
     "text": [
      "1\n"
     ]
    }
   ],
   "source": [
    "g = 22 % 7   # 나머지 반환 연산자\n",
    "print(g)"
   ]
  },
  {
   "cell_type": "code",
   "execution_count": 29,
   "metadata": {},
   "outputs": [
    {
     "name": "stdout",
     "output_type": "stream",
     "text": [
      "16\n"
     ]
    }
   ],
   "source": [
    "h = 2 ** 4   # 2^4\n",
    "print(h)"
   ]
  },
  {
   "cell_type": "code",
   "execution_count": 35,
   "metadata": {},
   "outputs": [
    {
     "data": {
      "text/plain": [
       "1"
      ]
     },
     "execution_count": 35,
     "metadata": {},
     "output_type": "execute_result"
    }
   ],
   "source": [
    "g"
   ]
  },
  {
   "cell_type": "markdown",
   "metadata": {},
   "source": [
    "### * 변수(실수)"
   ]
  },
  {
   "cell_type": "code",
   "execution_count": 30,
   "metadata": {},
   "outputs": [
    {
     "name": "stdout",
     "output_type": "stream",
     "text": [
      "3.14\n",
      "<class 'float'>\n"
     ]
    }
   ],
   "source": [
    "h = 3.14\n",
    "print(h)\n",
    "print(type(h))"
   ]
  },
  {
   "cell_type": "code",
   "execution_count": 31,
   "metadata": {},
   "outputs": [
    {
     "name": "stdout",
     "output_type": "stream",
     "text": [
      "2.960526315789474\n"
     ]
    }
   ],
   "source": [
    "i = 22.5 / 7.6\n",
    "print(i)"
   ]
  },
  {
   "cell_type": "code",
   "execution_count": 32,
   "metadata": {},
   "outputs": [
    {
     "name": "stdout",
     "output_type": "stream",
     "text": [
      "2.0\n"
     ]
    }
   ],
   "source": [
    "j = 22.5 // 7.6\n",
    "print(j)"
   ]
  },
  {
   "cell_type": "code",
   "execution_count": 33,
   "metadata": {},
   "outputs": [
    {
     "name": "stdout",
     "output_type": "stream",
     "text": [
      "7.300000000000001\n"
     ]
    }
   ],
   "source": [
    "k = 22.5 % 7.6  # 실수에서의 나머지는 의미 x.\n",
    "print(k)"
   ]
  },
  {
   "cell_type": "code",
   "execution_count": 34,
   "metadata": {},
   "outputs": [
    {
     "name": "stdout",
     "output_type": "stream",
     "text": [
      "0.10000000000000142\n"
     ]
    }
   ],
   "source": [
    "l = 43.2 - 43.1\n",
    "print(l) # 근사치값을 통해서 실수를 표현\n",
    "# 실수는 연산을 하는 과정에서 오차가 발생할 수 있음 -> 모든 프로그래밍이 공통적으로 가지고 있는 문제점이 실수의 오차 "
   ]
  },
  {
   "cell_type": "markdown",
   "metadata": {},
   "source": [
    "### * 복소수(Complex Number) - 활용성이 높지는 않음"
   ]
  },
  {
   "cell_type": "code",
   "execution_count": 36,
   "metadata": {},
   "outputs": [
    {
     "name": "stdout",
     "output_type": "stream",
     "text": [
      "(2+3j)\n",
      "<class 'complex'>\n",
      "2.0\n",
      "3.0\n",
      "(2-3j)\n"
     ]
    }
   ],
   "source": [
    "a = 2 + 3j\n",
    "print(a)\n",
    "print(type(a))\n",
    "print(a.real) # 실수값을 취하고 싶을 때 변수.real\n",
    "print(a.imag) # 허수값을 취하고 싶을 때 변수.image\n",
    "#취하고 싶은 값만을 .연산자를 통해 지정하여 출력할 수 있음\n",
    "print(a.conjugate()) # 켤레복소수(복소수중 허수 부분의 부호가 반대인 복소수)"
   ]
  },
  {
   "cell_type": "markdown",
   "metadata": {},
   "source": [
    "### * 복소수의 사칙 연산"
   ]
  },
  {
   "cell_type": "code",
   "execution_count": 37,
   "metadata": {},
   "outputs": [
    {
     "name": "stdout",
     "output_type": "stream",
     "text": [
      "(4+6j)\n"
     ]
    }
   ],
   "source": [
    "a = (1+2j) + (3+4j)\n",
    "print(a)"
   ]
  },
  {
   "cell_type": "code",
   "execution_count": 38,
   "metadata": {},
   "outputs": [
    {
     "name": "stdout",
     "output_type": "stream",
     "text": [
      "(-2-2j)\n"
     ]
    }
   ],
   "source": [
    "b = (1+2j) - (3+4j)\n",
    "print(b)"
   ]
  },
  {
   "cell_type": "code",
   "execution_count": 39,
   "metadata": {},
   "outputs": [
    {
     "name": "stdout",
     "output_type": "stream",
     "text": [
      "(-5+10j)\n"
     ]
    }
   ],
   "source": [
    "c = (1+2j) * (3+4j)\n",
    "print(c)"
   ]
  },
  {
   "cell_type": "code",
   "execution_count": 40,
   "metadata": {},
   "outputs": [
    {
     "name": "stdout",
     "output_type": "stream",
     "text": [
      "(0.44+0.08j)\n"
     ]
    }
   ],
   "source": [
    "d = (1+2j) / (3+4j)\n",
    "print(d)"
   ]
  },
  {
   "cell_type": "markdown",
   "metadata": {},
   "source": [
    "### * math 모듈을 이용한 계산 "
   ]
  },
  {
   "cell_type": "code",
   "execution_count": 41,
   "metadata": {},
   "outputs": [],
   "source": [
    "import math"
   ]
  },
  {
   "cell_type": "code",
   "execution_count": 42,
   "metadata": {},
   "outputs": [
    {
     "name": "stdout",
     "output_type": "stream",
     "text": [
      "3.141592653589793\n",
      "2.718281828459045\n"
     ]
    }
   ],
   "source": [
    "print(math.pi)   # 원주율\n",
    "print(math.e)    # 자연 상수"
   ]
  },
  {
   "cell_type": "code",
   "execution_count": 43,
   "metadata": {},
   "outputs": [
    {
     "name": "stdout",
     "output_type": "stream",
     "text": [
      "10\n",
      "10\n"
     ]
    }
   ],
   "source": [
    "print(abs(10))     # 절대값 계산 함수(내장함수)\n",
    "print(abs(-10))"
   ]
  },
  {
   "cell_type": "code",
   "execution_count": 44,
   "metadata": {},
   "outputs": [
    {
     "name": "stdout",
     "output_type": "stream",
     "text": [
      "1\n",
      "2\n"
     ]
    }
   ],
   "source": [
    "print(round(1.4))   # 1 -> 반올림 계산 함수(내장함수)\n",
    "print(round(1.5))   # 2"
   ]
  },
  {
   "cell_type": "code",
   "execution_count": 45,
   "metadata": {},
   "outputs": [
    {
     "name": "stdout",
     "output_type": "stream",
     "text": [
      "1\n",
      "1\n"
     ]
    }
   ],
   "source": [
    "print(math.trunc(1.4))   # 1 -> 버림 계산 함수(내장함수)\n",
    "print(math.trunc(1.5))   # 1"
   ]
  },
  {
   "cell_type": "code",
   "execution_count": 46,
   "metadata": {},
   "outputs": [
    {
     "name": "stdout",
     "output_type": "stream",
     "text": [
      "27.0\n",
      "27\n"
     ]
    }
   ],
   "source": [
    "print(math.pow(3, 3))  # 값:27.0, (3**3)과 동일.\n",
    "print(3**3)            # 값:27"
   ]
  },
  {
   "cell_type": "code",
   "execution_count": 47,
   "metadata": {},
   "outputs": [
    {
     "name": "stdout",
     "output_type": "stream",
     "text": [
      "9.0\n"
     ]
    }
   ],
   "source": [
    "print(math.sqrt(81))     # 제곱근 연산"
   ]
  },
  {
   "cell_type": "code",
   "execution_count": 48,
   "metadata": {},
   "outputs": [
    {
     "name": "stdout",
     "output_type": "stream",
     "text": [
      "3.0\n",
      "3.0\n"
     ]
    }
   ],
   "source": [
    "print(27 ** (1/3))      # 27^(1/3) : 세제곱근( 3 root 27)\n",
    "print(math.pow(27, 1/3))"
   ]
  },
  {
   "cell_type": "code",
   "execution_count": 50,
   "metadata": {},
   "outputs": [
    {
     "name": "stdout",
     "output_type": "stream",
     "text": [
      "2.0\n"
     ]
    }
   ],
   "source": [
    "print(math.log(4,2))"
   ]
  },
  {
   "cell_type": "code",
   "execution_count": null,
   "metadata": {},
   "outputs": [],
   "source": [
    "## - 문자열"
   ]
  },
  {
   "cell_type": "code",
   "execution_count": 51,
   "metadata": {},
   "outputs": [
    {
     "name": "stdout",
     "output_type": "stream",
     "text": [
      "Hello, Python\n"
     ]
    }
   ],
   "source": [
    "#자바같은 경우 ''를 문자, \"\"를 문자열로 하여금 따로따로 의미를 가져 갔었음.\n",
    "#R, 파이썬, 자바스크립트의 경우 큰따옴표와 작은따옴표에 구애받지 않고 사용하도록 호환성있게 정의해주고 있다. !!둘 다 문자열의 의미로 제공을 해주고 있음!!\n",
    "a = 'Hello, Python'\n",
    "print(a)"
   ]
  },
  {
   "cell_type": "code",
   "execution_count": 52,
   "metadata": {},
   "outputs": [
    {
     "name": "stdout",
     "output_type": "stream",
     "text": [
      "Hello, Python\n"
     ]
    }
   ],
   "source": [
    "b = \"Hello, Python\"\n",
    "print(b)"
   ]
  },
  {
   "cell_type": "code",
   "execution_count": 53,
   "metadata": {},
   "outputs": [
    {
     "name": "stdout",
     "output_type": "stream",
     "text": [
      "\n",
      "국회는 국무총리 또는 국무위원의 해임을 대통령에게 건의할 수 \n",
      "있다. 국무총리는 국무위원의 해임을 대통령에게 건의할 수 있다. 연소\n",
      "자의 근로는 특별한 보호를 받는다. 제1항의 해임건의는 국회재적의원 \n",
      "3분의 1 이상의 발의에 의하여 국회재적의원 과반수의 찬성이 있어야 \n",
      "한다. 모든 국민은 법률이 정하는 바에 의하여 공무담임권을 가진다. \n",
      "누구든지 병역의무의 이행으로 인하여 불이익한 처우를 받지 아니한다. \n",
      "선거와 국민투표의 공정한 관리 및 정당에 관한 사무를 처리하기 위하여\n",
      "선거관리위원회를 둔다. 사회적 특수계급의 제도는 인정되지 아니하며, \n",
      "어떠한 형태로도 이를 창설할 수 없다. 대법원장과 대법관이 아닌 \n",
      "법관은 대법관회의의 동의를 얻어 대법원장이 임명한다.\n",
      "\n",
      "<class 'str'>\n"
     ]
    }
   ],
   "source": [
    "c = \"\"\"\n",
    "국회는 국무총리 또는 국무위원의 해임을 대통령에게 건의할 수 \n",
    "있다. 국무총리는 국무위원의 해임을 대통령에게 건의할 수 있다. 연소\n",
    "자의 근로는 특별한 보호를 받는다. 제1항의 해임건의는 국회재적의원 \n",
    "3분의 1 이상의 발의에 의하여 국회재적의원 과반수의 찬성이 있어야 \n",
    "한다. 모든 국민은 법률이 정하는 바에 의하여 공무담임권을 가진다. \n",
    "누구든지 병역의무의 이행으로 인하여 불이익한 처우를 받지 아니한다. \n",
    "선거와 국민투표의 공정한 관리 및 정당에 관한 사무를 처리하기 위하여\n",
    "선거관리위원회를 둔다. 사회적 특수계급의 제도는 인정되지 아니하며, \n",
    "어떠한 형태로도 이를 창설할 수 없다. 대법원장과 대법관이 아닌 \n",
    "법관은 대법관회의의 동의를 얻어 대법원장이 임명한다.\n",
    "\"\"\"\n",
    "#문자열에 또 다른 기호로 연속적인 큰따옴표를 3개로 하여 데이터를 묶어줄 수 있다. -> str의 결과로 나타날 수 있음.\n",
    "print(c)\n",
    "print(type(c))"
   ]
  },
  {
   "cell_type": "markdown",
   "metadata": {},
   "source": [
    "### - 문자열 연산(+, *)"
   ]
  },
  {
   "cell_type": "code",
   "execution_count": 54,
   "metadata": {},
   "outputs": [
    {
     "name": "stdout",
     "output_type": "stream",
     "text": [
      "Python\n",
      "Python\n",
      "Py thon\n"
     ]
    }
   ],
   "source": [
    "print(\"Py\"+\"thon\")\n",
    "#자바에서 제공되어지는 문자열 + 문자열의 형태를 파이썬도 동일하게 제공한다.\n",
    "print(\"Py\"\"thon\")\n",
    "# 문자열과 문자열 사이에 아무것도 없이 써주는 경우(+를 생략하는 경우) \n",
    "# ,콤마를 통해서 문자열을 적어줬을 때(스페이스바가 할당되면서 결합됨) 문자열끼리 결합 시켜주는 것을 확인할 수 있음\n",
    "print(\"Py\",\"thon\")"
   ]
  },
  {
   "cell_type": "code",
   "execution_count": 55,
   "metadata": {},
   "outputs": [
    {
     "name": "stdout",
     "output_type": "stream",
     "text": [
      "Hello, World!!!\n"
     ]
    }
   ],
   "source": [
    "hello = 'Hello, '\n",
    "world = 'World!!!'\n",
    "helloWorld = hello + world\n",
    "print(helloWorld)\n",
    "#변수에 각각 담아서 + 연산 처리를 할 경우 문자열의 결합 출력이 가능함."
   ]
  },
  {
   "cell_type": "code",
   "execution_count": 56,
   "metadata": {},
   "outputs": [
    {
     "ename": "TypeError",
     "evalue": "can only concatenate str (not \"int\") to str",
     "output_type": "error",
     "traceback": [
      "\u001b[1;31m---------------------------------------------------------------------------\u001b[0m",
      "\u001b[1;31mTypeError\u001b[0m                                 Traceback (most recent call last)",
      "Cell \u001b[1;32mIn[56], line 3\u001b[0m\n\u001b[0;32m      1\u001b[0m \u001b[38;5;66;03m# 주의\u001b[39;00m\n\u001b[0;32m      2\u001b[0m age \u001b[38;5;241m=\u001b[39m \u001b[38;5;241m25\u001b[39m\n\u001b[1;32m----> 3\u001b[0m \u001b[38;5;28mprint\u001b[39m(\u001b[38;5;124;43m'\u001b[39;49m\u001b[38;5;124;43m방가 방가\u001b[39;49m\u001b[38;5;124;43m'\u001b[39;49m\u001b[43m \u001b[49m\u001b[38;5;241;43m+\u001b[39;49m\u001b[43m \u001b[49m\u001b[43mage\u001b[49m)\n",
      "\u001b[1;31mTypeError\u001b[0m: can only concatenate str (not \"int\") to str"
     ]
    }
   ],
   "source": [
    "# 주의\n",
    "age = 25\n",
    "print('방가 방가' + age)   # error(문자열+문자열 외  자료형의 + 연산은 허용하지 않는다.)\n",
    "# 파이썬은 모든 문법이 직관적이여야 한다는 컨셉을 가져가기 때문에 자료형 타입이 완전히 다를때는 +연산을 시키지 않는 것임."
   ]
  },
  {
   "cell_type": "code",
   "execution_count": 57,
   "metadata": {},
   "outputs": [
    {
     "name": "stdout",
     "output_type": "stream",
     "text": [
      "python python python \n"
     ]
    }
   ],
   "source": [
    "print('python ' * 3)   # 문자열 반복"
   ]
  },
  {
   "cell_type": "code",
   "execution_count": 58,
   "metadata": {},
   "outputs": [
    {
     "name": "stdout",
     "output_type": "stream",
     "text": [
      "Good M\n",
      "Morning\n"
     ]
    }
   ],
   "source": [
    "#특정 위치에 있는 문자나 문자열을 취하고 싶을 때 접근을 할 수 있는 방법\n",
    "s = 'Good Morning' #인덱스를 통해 문자열을 추출할 수 있음 => 자바나 파이썬등의 프로그래밍 언어들은 인덱스가 0부터 시작됨 / R만 인덱스가 1부터 시작\n",
    "print(s[0:6]) #주의) 공백도 포함하여 카운팅하고 문자열을 추출하고, 0~5까지 취하게 됨!! / 시작인덱스값:추출할 마지막인덱스값 -1 ==> 취하게됨\n",
    "print(s[5:12])"
   ]
  },
  {
   "cell_type": "code",
   "execution_count": 59,
   "metadata": {},
   "outputs": [
    {
     "name": "stdout",
     "output_type": "stream",
     "text": [
      "Good\n"
     ]
    }
   ],
   "source": [
    "a = s[:4]    # s[0:4]\n",
    "print(a)"
   ]
  },
  {
   "cell_type": "code",
   "execution_count": 60,
   "metadata": {},
   "outputs": [
    {
     "name": "stdout",
     "output_type": "stream",
     "text": [
      "Morning\n"
     ]
    }
   ],
   "source": [
    "b = s[5:]    # s[5:12]\n",
    "print(b)"
   ]
  },
  {
   "cell_type": "code",
   "execution_count": 61,
   "metadata": {},
   "outputs": [
    {
     "name": "stdout",
     "output_type": "stream",
     "text": [
      "ing\n"
     ]
    }
   ],
   "source": [
    "c = s[-3:]    # 뒤로부터 카운터 시작(-1...) 출력 : \"ing\"\n",
    "#R, 자바스크립트, 파이썬에서 배열에 -가 올 수 있었음. R은 제외하고의 의미를 담고있고, 자바스크립트와 파이썬은 뒤에서부터의 의미를 담는다.\n",
    "print(c)"
   ]
  },
  {
   "cell_type": "code",
   "execution_count": 62,
   "metadata": {},
   "outputs": [
    {
     "name": "stdout",
     "output_type": "stream",
     "text": [
      "Go onn\n"
     ]
    }
   ],
   "source": [
    "#Good Morning\n",
    "d = s[::2]  # 두 칸씩 카운팅 -> 두칸씩 스탭을 건너뛰면서 출력함\n",
    "#[시작:끝:스탭]: 시작과 끝을 작성하지 않으면 문자열 전체를 의미\n",
    "print(d)"
   ]
  },
  {
   "cell_type": "code",
   "execution_count": 63,
   "metadata": {},
   "outputs": [
    {
     "name": "stdout",
     "output_type": "stream",
     "text": [
      "o\n"
     ]
    }
   ],
   "source": [
    "print(s[2])    # 특정 인덱스 위치 문자 반환 "
   ]
  },
  {
   "cell_type": "code",
   "execution_count": 64,
   "metadata": {},
   "outputs": [
    {
     "name": "stdout",
     "output_type": "stream",
     "text": [
      "True\n",
      "False\n",
      "True\n",
      "False\n",
      "False\n"
     ]
    }
   ],
   "source": [
    "print('M' in s)\n",
    "print('a' in s)\n",
    "print('Good' in s)\n",
    "print('evening' in s)\n",
    "print('morning' in s)\n",
    "#in: 확인하고자 하는 데이터의 존재 여부에 따라서 boolean값을 출력해주는 연산자\n",
    "#파이썬은 대소문자를 구별함!!"
   ]
  },
  {
   "cell_type": "code",
   "execution_count": 65,
   "metadata": {},
   "outputs": [
    {
     "name": "stdout",
     "output_type": "stream",
     "text": [
      "12\n"
     ]
    }
   ],
   "source": [
    "print(len(s))      # len함수: 문자열 길이 반환"
   ]
  },
  {
   "cell_type": "markdown",
   "metadata": {},
   "source": [
    "## - 형변환 (강제형변환의 함수)"
   ]
  },
  {
   "cell_type": "code",
   "execution_count": 66,
   "metadata": {},
   "outputs": [
    {
     "name": "stdout",
     "output_type": "stream",
     "text": [
      "<class 'str'>\n",
      "<class 'int'>\n",
      "<class 'float'>\n",
      "<class 'complex'>\n"
     ]
    }
   ],
   "source": [
    "print(type(str(3.14)))  # 입력자료형 float -> 출력자료형 'str'\n",
    "\n",
    "#숫자형 문자열일 때 강제 형변환이 가능한 것임. 만약 숫자형 문자열이 아닐때는 에러가 난다는 것을 유념하고 있어야 함\n",
    "print(type(int(\"49\")))  # 입력자료형 'str' -> 출력자료형 int\n",
    "print(type(float(\"23.5\")))  # 입력자료형 'str' -> 출력자료형 float\n",
    "print(type(complex(\"1+2j\")))  # 입력자료형 'str' -> 출력자료형 complex"
   ]
  },
  {
   "cell_type": "markdown",
   "metadata": {},
   "source": [
    "### - 문자열 제공 메서드"
   ]
  },
  {
   "cell_type": "code",
   "execution_count": 67,
   "metadata": {},
   "outputs": [
    {
     "data": {
      "text/plain": [
       "4"
      ]
     },
     "execution_count": 67,
     "metadata": {},
     "output_type": "execute_result"
    }
   ],
   "source": [
    "a = 'how do you do, how do you do' # a변수에는 실질적으로 new를 통해 할당된 시작주소값이 담기는 것임\n",
    "#자바에서 문자열을 담을 때 내부적으로는 new String을 불러주고 있었는데 이 스킴을 파이썬도 동일하게 가져가는 것임\n",
    "a.count('do') #지정한 변수 안에 입력으로 넣은 문자열이 몇개 있는지 카운트해주는 메소드이다. \n",
    "#다이렉트로 바로 연결해서 접근하는 방식을 메서드 체이닝이라고 한다.\n",
    "#.연산자를 통해 메모리에 접근하고, 메서드 체이닝 방식으로 제공되는 메서드를 호출하고 있는 것임. "
   ]
  },
  {
   "cell_type": "code",
   "execution_count": null,
   "metadata": {},
   "outputs": [],
   "source": [
    "#10진수를 16진수로 변환할 때는 hex()함수로 제공해주고 있음, 16진수일때 0x를 표시해주고 있음(R, 파이썬, 자바스크립트에서 공통적으로 제공해주는 기호임)\n",
    "#10진수를 2진수로 변환할 때는 bin()함수를 제공해주고 있음, 2진수의 접두어는 0b임\n",
    "#10진수를 8진수로 변환할 때는 oct()함수를 제공해주고 있음, 8진수의 접두어는 0o임\n",
    "#자바에서는 8진수일 경우 0이라는 접두어를 붙여주고, 16진수는 0X를 붙여준다.\n",
    "#16, 2, 8진수를 10진수로 변환할 때는 변수에 담아서 다시 변수값으로 결과를 출력하면 된다."
   ]
  }
 ],
 "metadata": {
  "kernelspec": {
   "display_name": "Python 3 (ipykernel)",
   "language": "python",
   "name": "python3"
  },
  "language_info": {
   "codemirror_mode": {
    "name": "ipython",
    "version": 3
   },
   "file_extension": ".py",
   "mimetype": "text/x-python",
   "name": "python",
   "nbconvert_exporter": "python",
   "pygments_lexer": "ipython3",
   "version": "3.8.16"
  }
 },
 "nbformat": 4,
 "nbformat_minor": 4
}
