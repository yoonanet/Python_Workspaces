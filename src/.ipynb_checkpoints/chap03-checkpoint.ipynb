{
 "cells": [
  {
   "cell_type": "markdown",
   "id": "c8680f3c",
   "metadata": {},
   "source": [
    "# 리스트(list)\n",
    "## - 리스트 저장 형태"
   ]
  },
  {
   "cell_type": "code",
   "execution_count": 2,
   "id": "e84687b3",
   "metadata": {},
   "outputs": [
    {
     "name": "stdout",
     "output_type": "stream",
     "text": [
      "['홍길동', '강감찬', '이순신']\n",
      "<class 'list'>\n"
     ]
    }
   ],
   "source": [
    "a = ['홍길동', '강감찬', '이순신']\n",
    "#자바나 자바스크립트에서는 []가 배열의 자료형이였음\n",
    "print(a)\n",
    "print(type(a)) # 'list' 한 가지 유념) ***파이썬에서는 배열이라는 자료형을 제공해주고 있지 않는 대신에 []의 list라는 자료형을 제공해주는 것임\n",
    "\n",
    "#뒤에서 머신러닝 딥러닝을 살펴보게 될 때, 입력으로 넣어주는 대부분의 자료형이 숫자 데이터이다.\n",
    "#대용량의 숫자데이터를 처리할 수 있는 자료형이 배열이다. 특히 2차원 배열같은 경우 행과 열의 형태로 데이터를 담아서 수학시간에 배웠었던 행렬연산이 가능\n",
    "#행열연산의 장점은 행열의 데이터를 넣으면 결과를 아주 많은 데이터를 한꺼번에 연산해서 리턴해주는 것임\n",
    "#컴퓨터가 가장 잘하는 것이 연산인데 그 연산을 한번에 왕창 시킬 수 있는 방법이 행열연산인 것이다.\n",
    "#파이썬에서는 2차원 배열을 제공해주고 있지 않음. 그래서 배열의 자료형으로 리스트를 배열형으로 변환해서 전처리에서 필수적으로 사용할 넘파이 모듈을 활용하게 될 것이다.\n"
   ]
  },
  {
   "cell_type": "code",
   "execution_count": 4,
   "id": "5a3f9462",
   "metadata": {},
   "outputs": [
    {
     "name": "stdout",
     "output_type": "stream",
     "text": [
      "[10, 20, '이순신', '강감찬']\n",
      "<class 'list'>\n"
     ]
    }
   ],
   "source": [
    "b = [10, 20, '이순신', '강감찬']\n",
    "print(b)\n",
    "print(type(b))\n",
    "# 서로 다른 자료형이지만 출력이 가능한 이유는 자료형이 list이기 때문이다. -> 배열의 개념이 아니고, 파이썬에서 제공하는 모든 자료형들을 list에 담을 수 있다. "
   ]
  },
  {
   "cell_type": "code",
   "execution_count": 5,
   "id": "c38d15b4",
   "metadata": {},
   "outputs": [
    {
     "name": "stdout",
     "output_type": "stream",
     "text": [
      "10\n",
      "20\n",
      "이순신\n",
      "강감찬\n"
     ]
    }
   ],
   "source": [
    "# 데이터 접근 -> 사용의 방법은 배열과 유사\n",
    "print(b[0]) #읽어오고 싶다면 인덱스의 형태로 데이터를 요청하면 됨\n",
    "print(b[1])\n",
    "print(b[2])\n",
    "print(b[3])"
   ]
  },
  {
   "cell_type": "code",
   "execution_count": 6,
   "id": "d311cf35",
   "metadata": {},
   "outputs": [
    {
     "name": "stdout",
     "output_type": "stream",
     "text": [
      "[1, 2, 3, 4, 5]\n",
      "[1, 2, 3]\n",
      "[6, 7, 8, 9, 10]\n"
     ]
    }
   ],
   "source": [
    "# 슬라이싱 기능: 일정범위에 있는 데이터를 한번에 읽어오고 싶을 때 콜론(:)을 이용하여 추출하는 기능이다.\n",
    "x = [1, 2, 3, 4, 5, 6, 7, 8, 9, 10]\n",
    "\n",
    "print(x[0:5]) #콜론(:)을 이용해서 문자열처럼 원하는 범위의 데이터를 추출할 수 있다. 인덱스의 범위로 가져올 수 있음\n",
    "print(x[:3]) #처음부터 데이터를 가져올 경우에는 :앞에 생략 가능\n",
    "print(x[5:]) #:뒤에를 생략할 경우 마지막까지 데이터를 가져오라는 의미"
   ]
  },
  {
   "cell_type": "code",
   "execution_count": 7,
   "id": "43ea5b8f",
   "metadata": {},
   "outputs": [
    {
     "name": "stdout",
     "output_type": "stream",
     "text": [
      "[1, 2, 3, 4, 5, 6, 7, 8, 9, 10]\n"
     ]
    }
   ],
   "source": [
    "# '+'연산자를 통한 리스트간의 결합 기능\n",
    "a = [1, 2, 3, 4, 5]\n",
    "b = [6, 7, 8, 9, 10]\n",
    "#여러 데이터를 담고 있는 list의 경우 각각을 더한 결과를 리턴하는 것이 아닌 리스트끼리의 데이터를 결합을 하는 형태로 결과를 리턴 해준다.\n",
    "\n",
    "print(a + b)"
   ]
  },
  {
   "cell_type": "code",
   "execution_count": null,
   "id": "191d8670",
   "metadata": {},
   "outputs": [],
   "source": [
    "#각각의 데이터를 순차적으로 더하지 못하는 이유는? 아래와 같이 숫자와 문자열의 연산이 이루어지면 파이썬에서 에러를 내는 것이 일반적임.\n",
    "# 또한, 리스트에는 여러 데이터들이 들어가기 때문에 리스트끼리 묶는 스킴을 가져감!! \n",
    "c = ['이순신', '홍길동', '강감찬']\n",
    "d = [25, 26, 27]\n",
    "\n",
    "print(c + d)"
   ]
  },
  {
   "cell_type": "code",
   "execution_count": 2,
   "id": "ea8a0de7",
   "metadata": {},
   "outputs": [
    {
     "name": "stdout",
     "output_type": "stream",
     "text": [
      "[1, 2, 30, 4, 5]\n",
      "5\n"
     ]
    }
   ],
   "source": [
    "# 특정 위치에 있는 데이터를 변경\n",
    "a = [1, 2, 3, 4, 5]\n",
    "# 인덱스 개념으로 접근해서 데이터를 변경하면 됨\n",
    "a[2] = 30\n",
    "print(a)\n",
    "print(len(a)) # length"
   ]
  },
  {
   "cell_type": "code",
   "execution_count": 3,
   "id": "275872c5",
   "metadata": {},
   "outputs": [
    {
     "name": "stdout",
     "output_type": "stream",
     "text": [
      "[1, 2, 4, 5]\n"
     ]
    }
   ],
   "source": [
    "# 리스트에서 특정 항목 삭제하기\n",
    "del a[2]\n",
    "print(a)"
   ]
  },
  {
   "cell_type": "markdown",
   "id": "1b8502a7",
   "metadata": {},
   "source": [
    "### - 리스트 제공 메서드"
   ]
  },
  {
   "cell_type": "code",
   "execution_count": 4,
   "id": "dbf95699",
   "metadata": {},
   "outputs": [
    {
     "name": "stdout",
     "output_type": "stream",
     "text": [
      "[1, 3, 5, 7]\n"
     ]
    }
   ],
   "source": [
    "a = [1, 3, 5]\n",
    "\n",
    "a.append(7) # 기존 a에 담겨져 있는 데이터 마지막에 입력으로 넣어준 데이터를 추가해주는 기능의 메서드이다.\n",
    "print(a)"
   ]
  },
  {
   "cell_type": "code",
   "execution_count": 5,
   "id": "cda326cd",
   "metadata": {},
   "outputs": [
    {
     "name": "stdout",
     "output_type": "stream",
     "text": [
      "[1, 3, 5, 7, 9, 11, 13]\n"
     ]
    }
   ],
   "source": [
    "b = [9, 11, 13]\n",
    "\n",
    "a.extend(b) #입력으로 list 자료형의 데이터를 넣어주도록 함\n",
    "# extend(): 확장의 개념으로 a리스트와 입력으로 넣어준 b리스트가 +연산을 수행한 결과를 가져가게 된다.\n",
    "#           즉, 기존 리스트에 다른 리스트를 이어 붙임\n",
    "print(a)"
   ]
  },
  {
   "cell_type": "code",
   "execution_count": 6,
   "id": "cd71effd",
   "metadata": {},
   "outputs": [
    {
     "name": "stdout",
     "output_type": "stream",
     "text": [
      "[1, 2, 3, 5, 7, 9, 11, 13]\n"
     ]
    }
   ],
   "source": [
    "a.insert(1, 2) \n",
    "#insert메소드는 데이터를 삽입하겠다는 것인데 첫번째 매개변수에는 삽입할 위치, 두번째 매개변수에는 삽입할 데이터를 적어주도록 한다.\n",
    "\n",
    "print(a) # 결과적으로 1인덱스 위치에 2라는 데이터가 삽입되는 것을 확인할 수 있다."
   ]
  },
  {
   "cell_type": "code",
   "execution_count": 7,
   "id": "dad24671",
   "metadata": {},
   "outputs": [
    {
     "name": "stdout",
     "output_type": "stream",
     "text": [
      "[1, 2, 3, 5, 7, 9, 13]\n"
     ]
    }
   ],
   "source": [
    "a.remove(11) # 삭제하고 싶은 값을 지정해주도록 해야한다.\n",
    "print(a)"
   ]
  },
  {
   "cell_type": "code",
   "execution_count": 8,
   "id": "b26f13ce",
   "metadata": {},
   "outputs": [
    {
     "ename": "ValueError",
     "evalue": "list.remove(x): x not in list",
     "output_type": "error",
     "traceback": [
      "\u001b[1;31m---------------------------------------------------------------------------\u001b[0m",
      "\u001b[1;31mValueError\u001b[0m                                Traceback (most recent call last)",
      "Cell \u001b[1;32mIn[8], line 2\u001b[0m\n\u001b[0;32m      1\u001b[0m \u001b[38;5;66;03m#만약 존재하지 않는 데이터를 삭제하려고 한다면?\u001b[39;00m\n\u001b[1;32m----> 2\u001b[0m \u001b[43ma\u001b[49m\u001b[38;5;241;43m.\u001b[39;49m\u001b[43mremove\u001b[49m\u001b[43m(\u001b[49m\u001b[38;5;241;43m10\u001b[39;49m\u001b[43m)\u001b[49m\n",
      "\u001b[1;31mValueError\u001b[0m: list.remove(x): x not in list"
     ]
    }
   ],
   "source": [
    "#만약 존재하지 않는 데이터를 삭제하려고 한다면? 리스트 안에 지정한 값이 존재하지 않는다는 에러메시지가 출력된다. -> 특징을 파악하도록 하자!!\n",
    "a.remove(10) "
   ]
  },
  {
   "cell_type": "code",
   "execution_count": 9,
   "id": "3de2905d",
   "metadata": {},
   "outputs": [
    {
     "name": "stdout",
     "output_type": "stream",
     "text": [
      "[1, 2, 3, 5, 7, 9]\n"
     ]
    }
   ],
   "source": [
    "a.pop() #stack의 의미로 생각. a리스트에 들어있는 데이터에서 마지막에 담긴 데이터를 꺼내오라는 기능의 메소드이다.\n",
    "print(a) #마지막에 저장된 데이터가 꺼내와져서 나머지 데이터만이 a변수에 저장되어져 있는 것을 확인할 수 있다.\n",
    "#pop메소드는 기본적으로 입력의 값을 지정하지 않으면 마지막값을 꺼내오게 됨"
   ]
  },
  {
   "cell_type": "code",
   "execution_count": 10,
   "id": "e8c3f455",
   "metadata": {},
   "outputs": [
    {
     "name": "stdout",
     "output_type": "stream",
     "text": [
      "[1, 3, 5, 7, 9]\n"
     ]
    }
   ],
   "source": [
    "#pop메소드를 활용해서 특정 위치에 있는 데이터를 버리고자 할 때, 인덱스를 활용해서 해당 데이터 위치를 입력으로 넣어주면 된다.\n",
    "a.pop(1) # 인덱스 지정\n",
    "print(a)"
   ]
  },
  {
   "cell_type": "code",
   "execution_count": 11,
   "id": "3df45ed3",
   "metadata": {},
   "outputs": [
    {
     "name": "stdout",
     "output_type": "stream",
     "text": [
      "2\n"
     ]
    }
   ],
   "source": [
    "a = ['abc', 'def', 'ghi']\n",
    "print(a.index('ghi')) #.index: a라고 하는 리스트 자료형에 입력으로 넣어준 데이터가 몇번째 인덱스 위치에 존재하는지를 리턴해주는 메소드이다."
   ]
  },
  {
   "cell_type": "code",
   "execution_count": 12,
   "id": "0a744e94",
   "metadata": {},
   "outputs": [
    {
     "ename": "ValueError",
     "evalue": "'xyz' is not in list",
     "output_type": "error",
     "traceback": [
      "\u001b[1;31m---------------------------------------------------------------------------\u001b[0m",
      "\u001b[1;31mValueError\u001b[0m                                Traceback (most recent call last)",
      "Cell \u001b[1;32mIn[12], line 2\u001b[0m\n\u001b[0;32m      1\u001b[0m \u001b[38;5;66;03m#없는 데이터의 인덱스 위치값을 리턴해달라고 한다면 파이썬은 에러를 내버림\u001b[39;00m\n\u001b[1;32m----> 2\u001b[0m \u001b[38;5;28mprint\u001b[39m(\u001b[43ma\u001b[49m\u001b[38;5;241;43m.\u001b[39;49m\u001b[43mindex\u001b[49m\u001b[43m(\u001b[49m\u001b[38;5;124;43m'\u001b[39;49m\u001b[38;5;124;43mxyz\u001b[39;49m\u001b[38;5;124;43m'\u001b[39;49m\u001b[43m)\u001b[49m)\n",
      "\u001b[1;31mValueError\u001b[0m: 'xyz' is not in list"
     ]
    }
   ],
   "source": [
    "#없는 데이터의 인덱스 위치값을 리턴해달라고 한다면 파이썬은 에러를 내버림\n",
    "print(a.index('xyz')) # error 발생"
   ]
  },
  {
   "cell_type": "code",
   "execution_count": 13,
   "id": "9078c92d",
   "metadata": {},
   "outputs": [
    {
     "name": "stdout",
     "output_type": "stream",
     "text": [
      "1\n"
     ]
    }
   ],
   "source": [
    "a = [1, 100, 2, 200, 3, 300]\n",
    "print(a.count(100)) #입력으로 데이터를 넣어주면 a라는 변수에 입력한 데이터가 몇 개인지를 카운트해서 반환해주는 메소드이다."
   ]
  },
  {
   "cell_type": "code",
   "execution_count": 14,
   "id": "23054d50",
   "metadata": {},
   "outputs": [
    {
     "name": "stdout",
     "output_type": "stream",
     "text": [
      "[2, 4, 5, 7, 9]\n"
     ]
    }
   ],
   "source": [
    "a = [7, 5, 9, 4, 2]\n",
    "\n",
    "a.sort() #sort(): 오름차순으로 정렬하여 결과를 저장해주는 메소드이다.\n",
    "#기존 a의 값을 정렬해서 그 값을 다시 a변수에 저장을 해주게끔 추가적인 동작까지 수행이 된다. (정렬 + 원데이터를 변경까지)\n",
    "#즉, 기존에 a값은 유지하면서 정렬된 값만 리턴해주는 것이 아니라 a라고 하는 변수자체에 순서를 바꿔버리는 것이다.\n",
    "print(a)"
   ]
  },
  {
   "cell_type": "code",
   "execution_count": 16,
   "id": "ad48c1e6",
   "metadata": {},
   "outputs": [
    {
     "name": "stdout",
     "output_type": "stream",
     "text": [
      "[9, 7, 5, 4, 2]\n"
     ]
    }
   ],
   "source": [
    "#만약 정렬을 내림차순으로 하고 싶다면?\n",
    "a.sort(reverse=True) #reverse의 매개변수 값을 True로 지정을 해주면 된다. / default가 False로 정의되어져 있음\n",
    "#파이썬에서는 True, False의 정의가 첫글자만 대문자로 정의하도록 지정이 되어져 있다.\n",
    "print(a)"
   ]
  },
  {
   "cell_type": "code",
   "execution_count": 17,
   "id": "f95a3e84",
   "metadata": {},
   "outputs": [
    {
     "name": "stdout",
     "output_type": "stream",
     "text": [
      "[2, 4, 9, 5, 7]\n"
     ]
    }
   ],
   "source": [
    "a = [7, 5, 9, 4, 2]\n",
    "a.reverse() \n",
    "#주의) solt를 통해서 reverse=True는 내림차순으로 정렬처리를 해주지만 \n",
    "# reverse메소드는 현재 저장되어져 있는 값에 순서를 바꿔서 저장을 해주게끔 동작되어진다. (!!요소 내 순서를 반대로 바꿔서 저장!!)\n",
    "print(a)"
   ]
  },
  {
   "cell_type": "markdown",
   "id": "70a7d8f5",
   "metadata": {},
   "source": [
    "# 튜플(Tuple)"
   ]
  },
  {
   "cell_type": "code",
   "execution_count": null,
   "id": "7ca83025",
   "metadata": {},
   "outputs": [],
   "source": [
    "#리스트는 []의 기호를 이용해서 데이터들을 두 개 이상 하나의 변수에 관리할 수 있게끔 제공했음\n",
    "#튜플은 ()의 기호를 이용해서 정의를 해주고 있음, 새로운 요소를 추가하거나 삽입, 삭제할 수 없음!! 한번 데이터를 저장하고 나면 그 값은 더이상 변경할 수 없는 것이다.\n",
    "\n",
    "#자바에서 final이라는 키워드를 붙이면 데이터를 수정하거나 새로운 값을 저장하는 처리가 불가능했음. \n",
    "#final이라는 키워드를 제공해주는 이유가 무엇이였는가? 파이값같이 고정된 값이 있음. 그런 값 같은 경우 한번만 메모리에 저장을 해두고 있으면 파이값을 필요로하는 누구든지 가져다 사용할 수 있도록 한다면 효율적으로 메모리를 관리할 수 있음\n",
    "#                                                     고정값이기 때문에 다른 사람이 변경하지 못하도록 문법적으로 제약을 두는 것이 효율적임\n",
    "\n",
    "#파이썬에서는 대표적인 불변의 값을 처리하고자 할 때 튜플이라는 자료형에 담아서 처리를 하게끔 제공해주는 개념이다.\n",
    "# 즉, 튜플은 읽어가는 용도로만 사용이 가능한 것이다. \n",
    "#     소프트웨어의 성능을 향상시키는 것임. -> 단순히 메모리를 할당해놓고 저장을 해놓고 수정을 못하게끔 처리만 해주면 되기 때문임!!"
   ]
  },
  {
   "cell_type": "code",
   "execution_count": 18,
   "id": "62aa1dee",
   "metadata": {},
   "outputs": [
    {
     "name": "stdout",
     "output_type": "stream",
     "text": [
      "(1, 2, 3)\n"
     ]
    },
    {
     "data": {
      "text/plain": [
       "tuple"
      ]
     },
     "execution_count": 18,
     "metadata": {},
     "output_type": "execute_result"
    }
   ],
   "source": [
    "a = (1, 2, 3)\n",
    "\n",
    "print(a)\n",
    "type(a)"
   ]
  },
  {
   "cell_type": "code",
   "execution_count": 19,
   "id": "b02cace5",
   "metadata": {},
   "outputs": [
    {
     "name": "stdout",
     "output_type": "stream",
     "text": [
      "(1, 2, 3, 4)\n"
     ]
    },
    {
     "data": {
      "text/plain": [
       "tuple"
      ]
     },
     "execution_count": 19,
     "metadata": {},
     "output_type": "execute_result"
    }
   ],
   "source": [
    "b = 1, 2, 3, 4 #튜플은 ()의 생략이 가능하다.\n",
    "\n",
    "print(b)\n",
    "type(b)"
   ]
  },
  {
   "cell_type": "code",
   "execution_count": 20,
   "id": "432e8839",
   "metadata": {},
   "outputs": [
    {
     "data": {
      "text/plain": [
       "int"
      ]
     },
     "execution_count": 20,
     "metadata": {},
     "output_type": "execute_result"
    }
   ],
   "source": [
    "# 주의: 한 개의 데이터를 튜플로 넣을 때, ()를 제외하고 정의를 한다면 자료형이 튜플이라고 오해하면 안된다.\n",
    "# 기본적으로 데이터를 담는 변수의 규칙을 그대로 가져감.\n",
    "c = 1\n",
    "\n",
    "type(c)"
   ]
  },
  {
   "cell_type": "code",
   "execution_count": 21,
   "id": "ca434d73",
   "metadata": {},
   "outputs": [
    {
     "data": {
      "text/plain": [
       "int"
      ]
     },
     "execution_count": 21,
     "metadata": {},
     "output_type": "execute_result"
    }
   ],
   "source": [
    "d = (1)\n",
    "\n",
    "type(d)"
   ]
  },
  {
   "cell_type": "code",
   "execution_count": 22,
   "id": "0c4c8d49",
   "metadata": {},
   "outputs": [
    {
     "data": {
      "text/plain": [
       "tuple"
      ]
     },
     "execution_count": 22,
     "metadata": {},
     "output_type": "execute_result"
    }
   ],
   "source": [
    "#하나의 값을 튜플의 자료형으로 저장하고 싶다면? (데이터, )로 표현을 해주면 된다.\n",
    "e = (1, )\n",
    "\n",
    "type(e)"
   ]
  },
  {
   "cell_type": "code",
   "execution_count": 23,
   "id": "a0ab84a2",
   "metadata": {},
   "outputs": [
    {
     "data": {
      "text/plain": [
       "tuple"
      ]
     },
     "execution_count": 23,
     "metadata": {},
     "output_type": "execute_result"
    }
   ],
   "source": [
    "#하나의 값을 저장을 할 때 튜플에서 괄호도 생략이 가능하다고 한다면 1, 로 표현을 할 수 있다. \n",
    "#==> 의도하는 바는 튜플(값의 고정)이라는 자료형으로 선언을 하고자 하는 것임\n",
    "f = 1,\n",
    "\n",
    "type(f)"
   ]
  },
  {
   "cell_type": "code",
   "execution_count": 25,
   "id": "723c4d04",
   "metadata": {},
   "outputs": [
    {
     "name": "stdout",
     "output_type": "stream",
     "text": [
      "(5, 6)\n",
      "(1, 2)\n",
      "(5, 6)\n"
     ]
    }
   ],
   "source": [
    "#튜플이라는 자료형은 저장된 데이터에 접근해서 참조할 수 있음 (한번 저장되면 수정, 삽입, 삭제는 불가능)\n",
    "#슬라이싱 기능\n",
    "x = (1, 2, 3, 4, 5, 6)\n",
    "\n",
    "print(x[4:6]) #왼쪽과 오른쪽으로 지정한 인덱스 범위를 한번에 읽어오는 용도로 슬라이싱을 유용하게 사용할 수 있다.\n",
    "#한가지 유념) 왼쪽은 시작 인덱스값이지만 오른쪽 끝 인덱스는 -1의 인덱스값까지 읽어오게 됨\n",
    "print(x[:2]) #처음부터 읽어오라는 것으로 생략\n",
    "print(x[4:]) #특정 위치부터 끝까지 읽어오도록 지정 "
   ]
  },
  {
   "cell_type": "code",
   "execution_count": 27,
   "id": "38f3b7c7",
   "metadata": {},
   "outputs": [
    {
     "data": {
      "text/plain": [
       "(1, 2, 3, 4, 5, 6)"
      ]
     },
     "execution_count": 27,
     "metadata": {},
     "output_type": "execute_result"
    }
   ],
   "source": [
    "# '+' 연산자를 통한 튜플간의 결합 기능\n",
    "m = 1, 2, 3\n",
    "n = 4, 5, 6\n",
    "\n",
    "concat = m + n #튜플도 리스트와 동일하게 결합 기능으로 +가 처리되어지게끔 기능을 제공해주고 있다.\n",
    "concat"
   ]
  },
  {
   "cell_type": "code",
   "execution_count": 28,
   "id": "6b35f8c6",
   "metadata": {},
   "outputs": [
    {
     "name": "stdout",
     "output_type": "stream",
     "text": [
      "2\n"
     ]
    },
    {
     "ename": "TypeError",
     "evalue": "'tuple' object does not support item assignment",
     "output_type": "error",
     "traceback": [
      "\u001b[1;31m---------------------------------------------------------------------------\u001b[0m",
      "\u001b[1;31mTypeError\u001b[0m                                 Traceback (most recent call last)",
      "Cell \u001b[1;32mIn[28], line 4\u001b[0m\n\u001b[0;32m      1\u001b[0m \u001b[38;5;66;03m#주의)\u001b[39;00m\n\u001b[0;32m      2\u001b[0m \u001b[38;5;28mprint\u001b[39m(m[\u001b[38;5;241m1\u001b[39m])\n\u001b[1;32m----> 4\u001b[0m m[\u001b[38;5;241m1\u001b[39m] \u001b[38;5;241m=\u001b[39m \u001b[38;5;241m20\u001b[39m\n",
      "\u001b[1;31mTypeError\u001b[0m: 'tuple' object does not support item assignment"
     ]
    }
   ],
   "source": [
    "#주의) 튜플의 특징으로 한번 값이 저장되면 접근해서 데이터를 읽어올 수 있지만 데이터를 삽입, 삭제, 수정의 작업을 하지 못한다는 것을 기억하고 있어야 한다.\n",
    "print(m[1])\n",
    "\n",
    "m[1] = 20 #튜플은 아이템에 대한 할당을 처리하지 못한다는 정보와 함께 에러를 내주고 있음"
   ]
  },
  {
   "cell_type": "code",
   "execution_count": 29,
   "id": "18e469ff",
   "metadata": {},
   "outputs": [
    {
     "ename": "AttributeError",
     "evalue": "'tuple' object has no attribute 'append'",
     "output_type": "error",
     "traceback": [
      "\u001b[1;31m---------------------------------------------------------------------------\u001b[0m",
      "\u001b[1;31mAttributeError\u001b[0m                            Traceback (most recent call last)",
      "Cell \u001b[1;32mIn[29], line 1\u001b[0m\n\u001b[1;32m----> 1\u001b[0m \u001b[43mm\u001b[49m\u001b[38;5;241;43m.\u001b[39;49m\u001b[43mappend\u001b[49m(\u001b[38;5;241m4\u001b[39m)\n",
      "\u001b[1;31mAttributeError\u001b[0m: 'tuple' object has no attribute 'append'"
     ]
    }
   ],
   "source": [
    "m.append(4) #error: 메서드 지원x / 기존에 m값에다가 입력으로 넣어준값을 추가하는 것인데 튜플의 특징에서 불가능한 작업이다."
   ]
  },
  {
   "cell_type": "markdown",
   "id": "57c45ba8",
   "metadata": {},
   "source": [
    "### - 튜플 제공 메서드"
   ]
  },
  {
   "cell_type": "code",
   "execution_count": 30,
   "id": "76d777c4",
   "metadata": {},
   "outputs": [
    {
     "name": "stdout",
     "output_type": "stream",
     "text": [
      "2\n"
     ]
    }
   ],
   "source": [
    "a = ('abc', 'def', 'ghi')\n",
    "\n",
    "print(a.index('ghi')) #정보를 알려주는 메소드이고, 기존 a에 담긴 데이터에는 영향을 미치지 않는 기능임 ==> 입력으로 넣어준 데이터가 존재하면 몇번째 인덱스에 있는지에 대한 정보를 리턴해줌"
   ]
  },
  {
   "cell_type": "code",
   "execution_count": 32,
   "id": "6853e529",
   "metadata": {},
   "outputs": [
    {
     "name": "stdout",
     "output_type": "stream",
     "text": [
      "1\n",
      "0\n"
     ]
    }
   ],
   "source": [
    "b = (1, 100, 2, 200, 3, 300)\n",
    "print(b.count(100)) #입력으로 넣어준 데이터의 존재유무에 따라서 몇개의 데이터가 존재하는지에 다른 카운트값을 반환해주는 기능을 튜플에서도 제공함\n",
    "print(b.count(500)) #존재하지 않는 값일 때는 0을 리턴함."
   ]
  },
  {
   "cell_type": "code",
   "execution_count": 33,
   "id": "4a52298d",
   "metadata": {},
   "outputs": [
    {
     "name": "stdout",
     "output_type": "stream",
     "text": [
      "(1, 2, 3)\n"
     ]
    }
   ],
   "source": [
    "# 튜플 패킹(tuple packing) : 여러 가지 데이터를 튜플로 묶는 것\n",
    "a = 1, 2, 3 \n",
    "print(a)"
   ]
  },
  {
   "cell_type": "code",
   "execution_count": 35,
   "id": "95b371f7",
   "metadata": {},
   "outputs": [
    {
     "name": "stdout",
     "output_type": "stream",
     "text": [
      "Seoul\n",
      "37.541\n",
      "126.986\n"
     ]
    }
   ],
   "source": [
    "# 튜플 언패킹(tuple Unpacking) : 각 요소를 여러 개의 변수에 할당하는 것. ***파이썬에서 빈번하게 만날 수 있는 코드임\n",
    "data = 'Seoul', 37.541, 126.986 # 지역 / 경도 / 위도 => 고정되어져 있는 값임\n",
    "type(data)\n",
    "\n",
    "city, latitude, longitude = data # 튜플 언패킹 - 머신러닝 딥러닝에서 빈번하게 만날 수 있는 코드임\n",
    "#***변수를 연속적으로 선언하고 각각의 데이터를 꺼내와서 각 변수에 저장을 할 수 있게끔 처리할 수 있음\n",
    "\n",
    "# 각각의 데이터를 잘 전달받아서 저장되어져 있는지 확인 ↓\n",
    "print(city)\n",
    "print(latitude)\n",
    "print(longitude)"
   ]
  },
  {
   "cell_type": "markdown",
   "id": "f923857a",
   "metadata": {},
   "source": [
    "# 딕셔너리(Dictionary)"
   ]
  },
  {
   "cell_type": "code",
   "execution_count": null,
   "id": "d64c3b13",
   "metadata": {},
   "outputs": [],
   "source": [
    "#딕셔너리(Dictionary): 기본적인 용법은 {}로 생성할 수 있음, 이때 데이터 관리 방법은 자바의 map을 생각하면 됨\n",
    "#딕셔너리=사전은 단어와 설명의 특징을 가짐 -> 이 형식이 key와 value로 구성되어져 있다는 의미로 정의를 해주고 있음\n",
    "#요소에 접근할 때 0부터 시작하는 첨자 뿐 아니라 문자열과 숫자를 비롯해서 변경이 불가능한 형식이면 어떤 자료형이든 사용이 가능함\n",
    "#첨자는 키, 키가 가리키는 슬롯에 저장되는 데이터를 값이라 함.\n",
    "#딕셔너리의 장점은 탐색속도가 빠르고 사용하기가 편함 / 딕셔너리 안에 요소 참조 시 리스트와 튜플처럼 []를 활용하도록 한다."
   ]
  },
  {
   "cell_type": "code",
   "execution_count": 36,
   "id": "41554eba",
   "metadata": {},
   "outputs": [
    {
     "name": "stdout",
     "output_type": "stream",
     "text": [
      "{'애플': 'www.apple.com', '네이버': 'www.naver.com', '파이썬': 'www.python.org'}\n",
      "<class 'dict'>\n"
     ]
    }
   ],
   "source": [
    "#딕셔너리는 데이터를 생성할 때 아주많이 활용되어지는 자료형임\n",
    "#키와 벨류의 구분은 콜론(:)을 활용한다.\n",
    "dic = {'애플':'www.apple.com', '네이버':'www.naver.com', '파이썬':'www.python.org'}\n",
    "\n",
    "print(dic)\n",
    "print(type(dic))"
   ]
  },
  {
   "cell_type": "code",
   "execution_count": 37,
   "id": "5455a9fc",
   "metadata": {},
   "outputs": [
    {
     "name": "stdout",
     "output_type": "stream",
     "text": [
      "www.python.org\n"
     ]
    }
   ],
   "source": [
    "# 데이터 접근 방법\n",
    "print(dic['파이썬']) #키값으로 접근해서 해당 데이터의 값을 요청할 수 있다. (리스트와 튜플, 딕셔너리는 []의 기호로 통일된 방법으로 접근이 가능한것임)"
   ]
  },
  {
   "cell_type": "code",
   "execution_count": 40,
   "id": "8b02c764",
   "metadata": {},
   "outputs": [
    {
     "name": "stdout",
     "output_type": "stream",
     "text": [
      "<class 'dict'>\n",
      "{'애플': 'www.apple.com', '네이버': 'www.naver.com', '파이썬': 'www.python.org'}\n"
     ]
    }
   ],
   "source": [
    "# 데이터 삽입\n",
    "dic2 = {} #값이 담기지 않은 딕셔너리 자료형 변수 생성\n",
    "print(type(dic2))\n",
    "\n",
    "dic2['애플'] = 'www.apple.com' #추가하고 싶은 키값을 []를 이용해서 지정하고, 대입연산자 오른쪽에 키에 저장할 값을 지정해주면 된다.\n",
    "dic2['네이버'] = 'www.naver.com'\n",
    "dic2['파이썬'] = 'www.python.org'\n",
    "\n",
    "print(dic2)\n"
   ]
  },
  {
   "cell_type": "markdown",
   "id": "4c98952d",
   "metadata": {},
   "source": [
    "### - 딕셔너리 제공 메서드"
   ]
  },
  {
   "cell_type": "code",
   "execution_count": 41,
   "id": "05aff66e",
   "metadata": {},
   "outputs": [
    {
     "name": "stdout",
     "output_type": "stream",
     "text": [
      "dict_keys(['애플', '네이버', '파이썬'])\n"
     ]
    }
   ],
   "source": [
    "print(dic.keys()) # 변수에 담겨져 있는 키값만을 리스트형태로 결과를 리턴해주는 메서드이다."
   ]
  },
  {
   "cell_type": "code",
   "execution_count": 42,
   "id": "12fe7900",
   "metadata": {},
   "outputs": [
    {
     "name": "stdout",
     "output_type": "stream",
     "text": [
      "dict_values(['www.apple.com', 'www.naver.com', 'www.python.org'])\n"
     ]
    }
   ],
   "source": [
    "print(dic.values()) #키값에 저장된 데이터만을 리스트형태로 리턴해주는 메서드이다."
   ]
  },
  {
   "cell_type": "code",
   "execution_count": 43,
   "id": "cf1b12e5",
   "metadata": {},
   "outputs": [
    {
     "name": "stdout",
     "output_type": "stream",
     "text": [
      "dict_items([('애플', 'www.apple.com'), ('네이버', 'www.naver.com'), ('파이썬', 'www.python.org')])\n"
     ]
    }
   ],
   "source": [
    "print(dic.items()) #변수에 담겨진 딕셔너리의 키와 값의 쌍으로 목록을 출력해주는 메서드"
   ]
  },
  {
   "cell_type": "code",
   "execution_count": 44,
   "id": "15123db8",
   "metadata": {},
   "outputs": [
    {
     "name": "stdout",
     "output_type": "stream",
     "text": [
      "True\n",
      "False\n"
     ]
    }
   ],
   "source": [
    "print('애플' in dic.keys()) #keys에서 반환받아온 키값들에서 애플로 지정한 데이터가 있으면 True, 없으면 False를 반환해줌\n",
    "print('다음' in dic.keys()) "
   ]
  },
  {
   "cell_type": "code",
   "execution_count": 45,
   "id": "5cec1c0a",
   "metadata": {},
   "outputs": [
    {
     "name": "stdout",
     "output_type": "stream",
     "text": [
      "True\n"
     ]
    }
   ],
   "source": [
    "print('www.naver.com' in dic.values()) #특정 value값이 존재하는지에 따라서 boolean값을 리턴해주는 동작"
   ]
  },
  {
   "cell_type": "code",
   "execution_count": 46,
   "id": "d064585c",
   "metadata": {},
   "outputs": [
    {
     "name": "stdout",
     "output_type": "stream",
     "text": [
      "www.apple.com\n",
      "{'네이버': 'www.naver.com', '파이썬': 'www.python.org'}\n"
     ]
    }
   ],
   "source": [
    "# 데이터 제거\n",
    "print(dic.pop('애플')) #pop이라는 메소드는 특정 데이터를 꺼내오면서 제거하는 효과를 가져갈 수 있었음\n",
    "#딕셔너리에서 키값을 입력으로 지정해주게 되면 해당 키를 꺼내오면서 값까지 제거되는 효과를 가져갈 수 있다.\n",
    "print(dic)"
   ]
  },
  {
   "cell_type": "code",
   "execution_count": 47,
   "id": "29146427",
   "metadata": {},
   "outputs": [
    {
     "name": "stdout",
     "output_type": "stream",
     "text": [
      "{}\n"
     ]
    }
   ],
   "source": [
    "dic.clear() # clear(): 한번에 모든 데이터를 삭제해주는 기능이다. \n",
    "print(dic)"
   ]
  },
  {
   "cell_type": "code",
   "execution_count": null,
   "id": "66b19e37",
   "metadata": {},
   "outputs": [],
   "source": [
    "#파이썬에서 논리연산자는 키워드의 형태로 제공해주고 있음 => and, or, not\n",
    "#파이썬에서는 None키워드를 제공해주고 있음 => 수치로써의 의미를 가지지 않을 때를 말함(유효하지 않는 값일때!!)\n",
    "# -> 내부적으로 0=false으로 매핑되어져 있음"
   ]
  },
  {
   "cell_type": "code",
   "execution_count": null,
   "id": "42d59cbb",
   "metadata": {},
   "outputs": [],
   "source": []
  }
 ],
 "metadata": {
  "kernelspec": {
   "display_name": "Python [conda env:tf_cpu] *",
   "language": "python",
   "name": "conda-env-tf_cpu-py"
  },
  "language_info": {
   "codemirror_mode": {
    "name": "ipython",
    "version": 3
   },
   "file_extension": ".py",
   "mimetype": "text/x-python",
   "name": "python",
   "nbconvert_exporter": "python",
   "pygments_lexer": "ipython3",
   "version": "3.8.16"
  }
 },
 "nbformat": 4,
 "nbformat_minor": 5
}
