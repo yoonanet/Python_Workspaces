{
 "cells": [
  {
   "cell_type": "markdown",
   "id": "c45e0616",
   "metadata": {},
   "source": [
    "# 함수"
   ]
  },
  {
   "cell_type": "code",
   "execution_count": 1,
   "id": "e52b8894",
   "metadata": {},
   "outputs": [],
   "source": [
    "#자바에서는 함수의 개념이 없음. => 함수를 정의할 수 없는 구조로 문법을 지원하고 있었기 때문임. \n",
    "# - 기능이나 동작, 행위를 정의하려면 참조 자료형 안에서만 정의할 수 있었음.(어떤 특정객체에 제한된 기능만을 정의 가능)\n",
    "\n",
    "#자바스크립트나 R, 파이썬은 fuction이라는 키워드를 이용해서 참조자료형 안에 정의하는 메소드가 아니더라도 \n",
    "#개별적인 함수라는 기능을 정의해서 범용적으로 누구나 사용할 수 있는 형태의 문법을 따로 지원을 해주고 있다.\n",
    "#함수와 메소드의 개념이 자바를 제외한 타 프로그래밍 언어에서는 공존하고 있었음!!\n",
    "\n",
    "#함수와 메소드는 구현되는 개념은 동일함, 구현되는 방법에만 차이가 있는 것이다.\n",
    "#파이썬에서는 함수에 정의 방법부터 살펴볼 예정!!"
   ]
  },
  {
   "cell_type": "code",
   "execution_count": null,
   "id": "45a90004",
   "metadata": {},
   "outputs": [],
   "source": [
    "# 함수 정의 방법\n",
    "# 함수를 정의하는 이유: 기능만 제대로 정의를 해두면 누구든지 필요할 때마다 호출해서 사용할 수 있기 때문 -> 코드의 재사용성 및 유지보수에 용이함\n",
    "\n",
    "#define의 약자로 dif로 함수를 정의할 수 있다.\n",
    "def hello(): # def(함수정의키워드) 함수이름(전달받을 값) :(내 영역이 시작된다는 표시는 콜론) / 그 영역은 들여쓰기로 구분해주게 됨\n",
    "    print(\"Hello, Python!!!\")\n",
    "    \n",
    "\n",
    "# 함수 호출 방법\n",
    "hello() #함수의 이름과 ()를 함께 작성하여 호출할 수 있음.\n",
    "#그렇게 되면 파이썬이 함수의 이름을 통해 찾아가서 호출을 하게 됨"
   ]
  },
  {
   "cell_type": "code",
   "execution_count": 4,
   "id": "fbbcba2f",
   "metadata": {},
   "outputs": [
    {
     "name": "stdout",
     "output_type": "stream",
     "text": [
      "10\n",
      "10\n",
      "<function my_abs at 0x0000022E46A825E0>\n"
     ]
    }
   ],
   "source": [
    "# 호출과 반환\n",
    "# 정의를 할 때는 의미가 없고, 호출시에만 의미가 생기는 것임!!\n",
    "\n",
    "def my_abs(arg): #하나의 값을 전달받아서 처리하도록 한다.\n",
    "    if(arg < 0):\n",
    "        result = arg * -1 #음수곱하기 음수는 양수가 되어질 것임\n",
    "    else:\n",
    "        result = arg\n",
    "\n",
    "    return result #정의한 함수를 호출한 쪽으로 데이터를 전달할 수 있도록 함.\n",
    "#return의 의미: 호출된 쪽으로 값을 가지고 복귀해라, 호출된 쪽으로 바로 복귀해라\n",
    "\n",
    "# my_abs() #매개변수를 전달받도록 정의하고 아무값도 넣지 않고 호출하면 에러남 -> 값을 전달하지 않고 있다고 하는 error message\n",
    "print(my_abs(-10))\n",
    "print(my_abs(10))\n",
    "print(my_abs) # 할당된 주소값 반환\n",
    "#자바에서는 내부적인 기능 정의에 의해서 새로운 결과 처리를 하도록 재정의가 되어져 있다보니 주소값을 확인할 수 없었음"
   ]
  },
  {
   "cell_type": "code",
   "execution_count": 5,
   "id": "55b8dbe7",
   "metadata": {},
   "outputs": [
    {
     "name": "stdout",
     "output_type": "stream",
     "text": [
      "안녕하세요.\n",
      "안녕하세요.\n",
      "안녕하세요.\n"
     ]
    }
   ],
   "source": [
    "# 인자(argument) 이름의 올바른 예\n",
    "\n",
    "def print_string1(text, count): #함수 정의시에 ()에 입력해주는 값을 매개변수, 파라메타라고 불러줌\n",
    "    for i in range(count):\n",
    "        print(text)\n",
    "        \n",
    "print_string1('안녕하세요.', 3) #함수에서 전달하는 값을 argument라고 불러줌       "
   ]
  },
  {
   "cell_type": "code",
   "execution_count": 6,
   "id": "a3d99ed2",
   "metadata": {},
   "outputs": [
    {
     "name": "stdout",
     "output_type": "stream",
     "text": [
      "안녕하세요.\n"
     ]
    }
   ],
   "source": [
    "# 자바나 자바스크립트에서 지원하지 않고(문법의 사항이 엄격하기 때문에 메소드를 호출할 때 매개변수들을 순서에 맞춰서 호출을 해줬어야 했음), \n",
    "# R과 파이썬에서만 지원하는 기능 => 매개변수의 값을 디폴트로 셋팅할 수 있음\n",
    "# 기본값 인자(Default Argument Value)\n",
    "\n",
    "def print_string2(text, count=1): #매개변수를 선언함과 동시에 초기화를 해주는 기능을 R에서 제공해주고 있었음. -> 파이썬에서 매개변수를 선언할 때 초기화 값을 정의해줄 수 있음!! \n",
    "    for i in range(count):\n",
    "        print(text)\n",
    "        \n",
    "print_string2('안녕하세요.') #디폴트로 정의된 아규먼트는 함수를 호출할 때 따로 정의해주지 않더라도 정상적으로 실행됨\n",
    "#호출할 때 디폴트로 정의된 아규먼트가 들어오지 않으면 그 디폴트 값으로 셋팅하면서 실행되기 때문에 에러가 나지 않는 것임\n",
    "#그렇게 아규먼트값을 넣어주게 되면 전달된 아규먼트값으로 처리가 된다."
   ]
  },
  {
   "cell_type": "code",
   "execution_count": 7,
   "id": "41258948",
   "metadata": {},
   "outputs": [
    {
     "name": "stdout",
     "output_type": "stream",
     "text": [
      "안녕하세요.\n",
      "안녕하세요.\n",
      "안녕하세요.\n",
      "안녕하세요.\n",
      "안녕하세요.\n"
     ]
    }
   ],
   "source": [
    "print_string2('안녕하세요.', 5) "
   ]
  },
  {
   "cell_type": "code",
   "execution_count": 8,
   "id": "c2ff2d67",
   "metadata": {},
   "outputs": [
    {
     "name": "stdout",
     "output_type": "stream",
     "text": [
      "안녕하세요.\n",
      "안녕하세요.\n",
      "안녕하세요.\n",
      "안녕하세요.\n",
      "안녕하세요.\n"
     ]
    }
   ],
   "source": [
    "print_string2(count=5, text='안녕하세요.') #***파라메타의 값만 지정해준다면 순서를 뒤바꿔서도 호출하는 것도 가능하다. \n",
    "#파라메타의 이름을 지정해주지 않으면 함수에 정의된 파라메타 순서대로 실행이 되어진다."
   ]
  },
  {
   "cell_type": "markdown",
   "id": "a05701b1",
   "metadata": {},
   "source": [
    "## - 키워드 인자(Keyword Argument)\n",
    "        : 호출자가 매개변수의 이름을 일일이 지정해 데이터를 입력하는 것."
   ]
  },
  {
   "cell_type": "code",
   "execution_count": 9,
   "id": "40f2923f",
   "metadata": {},
   "outputs": [
    {
     "name": "stdout",
     "output_type": "stream",
     "text": [
      "name = 홍길동\n",
      "position = student\n",
      "nationality = American\n"
     ]
    }
   ],
   "source": [
    "def print_personnel(name, position='staff', nationality='Korea'): #디폴트로 지정하지 않은 매개변수 값은 반드시 전달을 해야 수행이 되어진다는 것을 꼭 유념!!\n",
    "    print('name = {0}'.format(name))\n",
    "    print('position = {0}'.format(position))\n",
    "    print('nationality = {0}'.format(nationality))\n",
    "    \n",
    "print_personnel('홍길동', 'student', 'American')"
   ]
  },
  {
   "cell_type": "code",
   "execution_count": 10,
   "id": "d70ba8b5",
   "metadata": {},
   "outputs": [
    {
     "name": "stdout",
     "output_type": "stream",
     "text": [
      "name = 홍길동\n",
      "position = staff\n",
      "nationality = Korea\n"
     ]
    }
   ],
   "source": [
    "print_personnel('홍길동')"
   ]
  },
  {
   "cell_type": "code",
   "execution_count": 11,
   "id": "8e68beed",
   "metadata": {},
   "outputs": [
    {
     "name": "stdout",
     "output_type": "stream",
     "text": [
      "name = 홍길동\n",
      "position = student\n",
      "nationality = Korea\n"
     ]
    }
   ],
   "source": [
    "print_personnel('홍길동', 'student')"
   ]
  },
  {
   "cell_type": "code",
   "execution_count": 12,
   "id": "1cf5c081",
   "metadata": {},
   "outputs": [
    {
     "ename": "TypeError",
     "evalue": "print_personnel() missing 1 required positional argument: 'name'",
     "output_type": "error",
     "traceback": [
      "\u001b[1;31m---------------------------------------------------------------------------\u001b[0m",
      "\u001b[1;31mTypeError\u001b[0m                                 Traceback (most recent call last)",
      "Cell \u001b[1;32mIn[12], line 1\u001b[0m\n\u001b[1;32m----> 1\u001b[0m \u001b[43mprint_personnel\u001b[49m\u001b[43m(\u001b[49m\u001b[43mposition\u001b[49m\u001b[38;5;241;43m=\u001b[39;49m\u001b[38;5;124;43m'\u001b[39;49m\u001b[38;5;124;43mstudent\u001b[39;49m\u001b[38;5;124;43m'\u001b[39;49m\u001b[43m)\u001b[49m\n",
      "\u001b[1;31mTypeError\u001b[0m: print_personnel() missing 1 required positional argument: 'name'"
     ]
    }
   ],
   "source": [
    "#함수를 호출할 때 초기화되어지지 않은 파라메타가 있을 때는 필수적으로 초기화되지 않은 값을 전달하게끔 해줘야 한다. \n",
    "print_personnel(position = 'student') # error - name에 데이터 미전달."
   ]
  },
  {
   "cell_type": "code",
   "execution_count": 14,
   "id": "a57b0449",
   "metadata": {},
   "outputs": [
    {
     "name": "stdout",
     "output_type": "stream",
     "text": [
      "name = 홍길동\n",
      "position = student\n",
      "nationality = Korea\n"
     ]
    }
   ],
   "source": [
    "print_personnel(position  = 'student', name = '홍길동')"
   ]
  },
  {
   "cell_type": "code",
   "execution_count": 15,
   "id": "f373f350",
   "metadata": {},
   "outputs": [
    {
     "name": "stdout",
     "output_type": "stream",
     "text": [
      "name = 홍길동\n",
      "position = staff\n",
      "nationality = American\n"
     ]
    }
   ],
   "source": [
    "print_personnel(nationality = 'American', name = '홍길동')"
   ]
  },
  {
   "cell_type": "code",
   "execution_count": 16,
   "id": "0d2d2eac",
   "metadata": {},
   "outputs": [
    {
     "name": "stdout",
     "output_type": "stream",
     "text": [
      "name = 홍길동\n",
      "position = student\n",
      "nationality = American\n"
     ]
    }
   ],
   "source": [
    "print_personnel(nationality = 'American', name = '홍길동', position  = 'student')"
   ]
  },
  {
   "cell_type": "markdown",
   "id": "6dffc917",
   "metadata": {},
   "source": [
    "## - 가변 매개 변수(Arbitrary Argument List)"
   ]
  },
  {
   "cell_type": "code",
   "execution_count": 2,
   "id": "8d7a48f0",
   "metadata": {},
   "outputs": [
    {
     "name": "stdout",
     "output_type": "stream",
     "text": [
      "<class 'tuple'>\n",
      "아버지가 방에 들어가신다.\n"
     ]
    }
   ],
   "source": [
    "def merge_string(*text_list): # '*'로 매개변수가 정의되어져 있으면 이는 가변매개변수의 의미를 가지게 된다. -> 얼마든지 변경을 시켜줄 수 있는 것\n",
    "    print(type(text_list)) # <class 'tuple'>\n",
    "    \n",
    "    result = ''\n",
    "    for s in text_list:\n",
    "        result += s\n",
    "        \n",
    "    return result    \n",
    "    \n",
    "print(merge_string('아버지가 ', '방에 ', '들어가신다.')) \n",
    "#선언되어져 있는 파라메타는 하나임에도 불구하고 여러 데이터를 전달해서 그 여러 데이터를 하나의 변수로 전달받게끔 선언할 수 있는 매개변수를 가변매개변수라고 한다.\n",
    "#***가변매개변수는 전달받은 데이터를 튜플의 형태로 관리한다. / 튜플의 특징은 한번 데이터가 저장되면 수정, 삭제가 불가능한 것임\n",
    "#즉, 전달받은 파라메타는 그 값을 수정하거나 변경, 삭제 등의 동작들을 수행할 수 없게끔 고정시켜서 함수내에서 처리를 해준다."
   ]
  },
  {
   "cell_type": "code",
   "execution_count": 4,
   "id": "7140cd5e",
   "metadata": {},
   "outputs": [
    {
     "name": "stdout",
     "output_type": "stream",
     "text": [
      "<class 'dict'>\n",
      "축구 : 손흥민\n",
      "야구 : 류현진\n",
      "농구 : 허웅\n"
     ]
    }
   ],
   "source": [
    "def print_team(**players): \n",
    "    print(type(players)) # <class 'dict'>\n",
    "    \n",
    "    for k in players.keys():\n",
    "        print('{0} : {1}'.format(k, players[k]))\n",
    "    \n",
    "print_team(축구='손흥민', 야구='류현진', 농구='허웅')    \n",
    "#*이 하나일 때는 전달받은 데이터를 튜플로 관리했었다면 \n",
    "#*이 두 개일 때는 함수를 호출할 때 두 개 이상의 데이터를 전달받을 수 있다는 인폼과 함께 \n",
    "#추가적으로 그때 데이터는 딕셔너리 자료형을 입력으로 전달받게끔 한다는 의미를 담고 있는 것이다.  "
   ]
  },
  {
   "cell_type": "code",
   "execution_count": 5,
   "id": "0c20577d",
   "metadata": {},
   "outputs": [
    {
     "name": "stdout",
     "output_type": "stream",
     "text": [
      "홍길동\n",
      "이순신\n",
      "강감찬\n"
     ]
    }
   ],
   "source": [
    "def print_args1(argc, *argv):\n",
    "    for i in range(argc): # 전달받은 값만큼 반복하도록 함.\n",
    "        print(argv[i]) #반복하면서 전달받은 가변인자 값을 출력하도록 함.\n",
    "        \n",
    "print_args1(3, '홍길동', '이순신', '강감찬') \n",
    "#일반매개변수와 가변매개변수를 적절히 섞어서 사용할 수 있음 -> 여기까지는 어려움 없이 처리 가능\n",
    "#문제는 파이썬에서 print_args1함수를 호출할 때 반드시 순서를 지키지 않아도 되는 융통성을 제공해주고 있었음.\n",
    "#이때, 유의해야 할 사항이 있음. 아래 참조."
   ]
  },
  {
   "cell_type": "code",
   "execution_count": 10,
   "id": "8c9b20f4",
   "metadata": {},
   "outputs": [
    {
     "ename": "SyntaxError",
     "evalue": "positional argument follows keyword argument (626846687.py, line 4)",
     "output_type": "error",
     "traceback": [
      "\u001b[1;36m  Cell \u001b[1;32mIn[10], line 4\u001b[1;36m\u001b[0m\n\u001b[1;33m    print_args1(args = 3, '홍길동', '이순신', '강감찬') # error\u001b[0m\n\u001b[1;37m                          ^\u001b[0m\n\u001b[1;31mSyntaxError\u001b[0m\u001b[1;31m:\u001b[0m positional argument follows keyword argument\n"
     ]
    }
   ],
   "source": [
    "#파라메타의 이름을 지정해주면서 함수를 호출해주면 가독성이 높아지고 명료해짐 \n",
    "#=> 하지만 일반매개변수와 가변매개변수가 혼합된 함수를 호출할 때 아래와 같이 지정해주면 에러남\n",
    "# 주의\n",
    "print_args1(argc = 3, '홍길동', '이순신', '강감찬') # error"
   ]
  },
  {
   "cell_type": "code",
   "execution_count": 11,
   "id": "e1a0ab07",
   "metadata": {},
   "outputs": [
    {
     "ename": "TypeError",
     "evalue": "print_args1() got multiple values for argument 'args'",
     "output_type": "error",
     "traceback": [
      "\u001b[1;31m---------------------------------------------------------------------------\u001b[0m",
      "\u001b[1;31mTypeError\u001b[0m                                 Traceback (most recent call last)",
      "Cell \u001b[1;32mIn[11], line 3\u001b[0m\n\u001b[0;32m      1\u001b[0m \u001b[38;5;66;03m#매개변수의 이름을 명시해주지 않으면 순서대로 지정을 해줘야 함. \u001b[39;00m\n\u001b[0;32m      2\u001b[0m \u001b[38;5;66;03m#이름을 명시해주면 순서에 상관없이 파라메타들을 작성해줄 수 있다.\u001b[39;00m\n\u001b[1;32m----> 3\u001b[0m \u001b[43mprint_args1\u001b[49m\u001b[43m(\u001b[49m\u001b[38;5;124;43m'\u001b[39;49m\u001b[38;5;124;43m홍길동\u001b[39;49m\u001b[38;5;124;43m'\u001b[39;49m\u001b[43m,\u001b[49m\u001b[43m \u001b[49m\u001b[38;5;124;43m'\u001b[39;49m\u001b[38;5;124;43m이순신\u001b[39;49m\u001b[38;5;124;43m'\u001b[39;49m\u001b[43m,\u001b[49m\u001b[43m \u001b[49m\u001b[38;5;124;43m'\u001b[39;49m\u001b[38;5;124;43m강감찬\u001b[39;49m\u001b[38;5;124;43m'\u001b[39;49m\u001b[43m,\u001b[49m\u001b[43m \u001b[49m\u001b[43margs\u001b[49m\u001b[43m \u001b[49m\u001b[38;5;241;43m=\u001b[39;49m\u001b[43m \u001b[49m\u001b[38;5;241;43m3\u001b[39;49m\u001b[43m)\u001b[49m\n",
      "\u001b[1;31mTypeError\u001b[0m: print_args1() got multiple values for argument 'args'"
     ]
    }
   ],
   "source": [
    "#매개변수의 이름을 명시해주지 않으면 순서대로 지정을 해줘야 함. \n",
    "#이름을 명시해주면 순서에 상관없이 파라메타들을 작성해줄 수 있다.\n",
    "print_args1('홍길동', '이순신', '강감찬', argc = 3) # error\n",
    "#일반매개변수와 가변매개변수의 파라메타 이름을 지정해서 호출하는 방법은 (내부적으로 섬세하게 판단해야하는 상황이 발생함.)\n",
    "#예외의 상황으로 전달 오류에 대한 부분이 생길 수 있어서 문법적으로 제공(허용)하고 있지 않음\n",
    "#순서대로 지정하여 인자값을 전달하는 경우에만 허용한다!!"
   ]
  },
  {
   "cell_type": "code",
   "execution_count": 16,
   "id": "77262b1d",
   "metadata": {},
   "outputs": [
    {
     "ename": "TypeError",
     "evalue": "print_args2() missing 1 required keyword-only argument: 'argc'",
     "output_type": "error",
     "traceback": [
      "\u001b[1;31m---------------------------------------------------------------------------\u001b[0m",
      "\u001b[1;31mTypeError\u001b[0m                                 Traceback (most recent call last)",
      "Cell \u001b[1;32mIn[16], line 8\u001b[0m\n\u001b[0;32m      5\u001b[0m     \u001b[38;5;28;01mfor\u001b[39;00m i \u001b[38;5;129;01min\u001b[39;00m \u001b[38;5;28mrange\u001b[39m(argc): \n\u001b[0;32m      6\u001b[0m         \u001b[38;5;28mprint\u001b[39m(argv[i]) \n\u001b[1;32m----> 8\u001b[0m \u001b[43mprint_args2\u001b[49m\u001b[43m(\u001b[49m\u001b[38;5;124;43m'\u001b[39;49m\u001b[38;5;124;43m홍길동\u001b[39;49m\u001b[38;5;124;43m'\u001b[39;49m\u001b[43m,\u001b[49m\u001b[43m \u001b[49m\u001b[38;5;124;43m'\u001b[39;49m\u001b[38;5;124;43m이순신\u001b[39;49m\u001b[38;5;124;43m'\u001b[39;49m\u001b[43m,\u001b[49m\u001b[43m \u001b[49m\u001b[38;5;124;43m'\u001b[39;49m\u001b[38;5;124;43m강감찬\u001b[39;49m\u001b[38;5;124;43m'\u001b[39;49m\u001b[43m,\u001b[49m\u001b[43m \u001b[49m\u001b[38;5;241;43m3\u001b[39;49m\u001b[43m)\u001b[49m\n",
      "\u001b[1;31mTypeError\u001b[0m: print_args2() missing 1 required keyword-only argument: 'argc'"
     ]
    }
   ],
   "source": [
    "# 주의\n",
    "# 가변인자매개변수를 먼저 선언하고 일반매개변수를 선언했을 경우 아래와 같이 호출하면 에러남\n",
    "# 경계가 모호하기 때문에 에러가 나는 것이다. 즉, 전달되는 데이터의 제한이 없이 전부 다 첫번째 가변매개변수로 전달된다.\n",
    "def print_args2(*argv, argc): \n",
    "    for i in range(argc): \n",
    "        print(argv[i]) \n",
    "        \n",
    "print_args2('홍길동', '이순신', '강감찬', 3) "
   ]
  },
  {
   "cell_type": "code",
   "execution_count": 17,
   "id": "7dbf6ae6",
   "metadata": {},
   "outputs": [
    {
     "name": "stdout",
     "output_type": "stream",
     "text": [
      "홍길동\n",
      "이순신\n",
      "강감찬\n"
     ]
    }
   ],
   "source": [
    "print_args2('홍길동', '이순신', '강감찬', argc = 3)\n",
    "#첫번째 매개변수가 가변매개변수일 경우 이에 대한 경계를 확실하게 하기 위해서 \n",
    "#두번째 매개변수에 이름을 작성해주면 명료해지기 때문에 호출이 된다."
   ]
  },
  {
   "cell_type": "code",
   "execution_count": 18,
   "id": "d87a231f",
   "metadata": {},
   "outputs": [
    {
     "ename": "SyntaxError",
     "evalue": "positional argument follows keyword argument (700483018.py, line 1)",
     "output_type": "error",
     "traceback": [
      "\u001b[1;36m  Cell \u001b[1;32mIn[18], line 1\u001b[1;36m\u001b[0m\n\u001b[1;33m    print_args2('홍길동', argc = 3, '이순신', '강감찬') # error\u001b[0m\n\u001b[1;37m                                       ^\u001b[0m\n\u001b[1;31mSyntaxError\u001b[0m\u001b[1;31m:\u001b[0m positional argument follows keyword argument\n"
     ]
    }
   ],
   "source": [
    "print_args2('홍길동', argc = 3, '이순신', '강감찬') # error - 파라메타 사이에 경계가 모호해짐"
   ]
  },
  {
   "cell_type": "code",
   "execution_count": 20,
   "id": "a7cf9a1f",
   "metadata": {},
   "outputs": [
    {
     "name": "stdout",
     "output_type": "stream",
     "text": [
      "15\n"
     ]
    }
   ],
   "source": [
    "# 호출자에게 반환하기\n",
    "\n",
    "def multiply(a, b):\n",
    "    return a * b # 1. 함수 즉시 종료 / 2. 호출자에게 값을 전달\n",
    "\n",
    "result = multiply(3, 5)\n",
    "print(result)"
   ]
  },
  {
   "cell_type": "code",
   "execution_count": 21,
   "id": "bc6d7684",
   "metadata": {},
   "outputs": [
    {
     "name": "stdout",
     "output_type": "stream",
     "text": [
      "25\n",
      "25\n"
     ]
    }
   ],
   "source": [
    "def my_abs2(arg):\n",
    "    if arg < 0: #음수가 전달되면 양수로 변환해서 반환\n",
    "        return arg * -1\n",
    "    elif arg > 0:\n",
    "        return arg\n",
    "\n",
    "result = my_abs2(25)\n",
    "print(result)\n",
    "result = my_abs2(-25)\n",
    "print(result)"
   ]
  },
  {
   "cell_type": "code",
   "execution_count": 23,
   "id": "614b8e55",
   "metadata": {},
   "outputs": [
    {
     "name": "stdout",
     "output_type": "stream",
     "text": [
      "None\n",
      "<class 'NoneType'>\n"
     ]
    }
   ],
   "source": [
    "# 주의\n",
    "result = my_abs2(0)\n",
    "print(result) # None - 함수에서 조건이 다 맞지 않기 때문에 아무런 값도 전달받지 못함 => 이 경우에 파이썬은 NoneType을 리턴해줌\n",
    "print(type(result)) # <class 'NoneType'>"
   ]
  },
  {
   "cell_type": "markdown",
   "id": "67d3eced",
   "metadata": {},
   "source": [
    "## - 변수의 유효 범위(scope)"
   ]
  },
  {
   "cell_type": "code",
   "execution_count": 24,
   "id": "ff43c52e",
   "metadata": {},
   "outputs": [
    {
     "name": "stdout",
     "output_type": "stream",
     "text": [
      "a:1\n",
      "a:0\n"
     ]
    }
   ],
   "source": [
    "def scope_test1():\n",
    "    a = 1                      # 함수 호출시 메모리 생성 => stack영역에 보관\n",
    "    print('a:{0}'.format(a))   # 복귀하는 순간 할당된 메모리가 소멸된다.\n",
    "    \n",
    "a = 0\n",
    "scope_test1() #a:1\n",
    "print('a:{0}'.format(a))#a:0 => 함수밖에 선언된 a를 쳐다봄"
   ]
  },
  {
   "cell_type": "code",
   "execution_count": 26,
   "id": "91cf4109",
   "metadata": {},
   "outputs": [
    {
     "name": "stdout",
     "output_type": "stream",
     "text": [
      "c(1) : 10\n",
      "c(2) : 1\n",
      "c(3) : 1\n"
     ]
    }
   ],
   "source": [
    "def scope_test2():\n",
    "    global c #변수를 선언할 때 global키워드(전역 변수, 지역변수의 생성을 막는다.)를 붙일 수 있음\n",
    "    c = 1\n",
    "    print('c(2) : {0}'.format(c))\n",
    "\n",
    "c = 10\n",
    "print('c(1) : {0}'.format(c))\n",
    "\n",
    "scope_test2()\n",
    "print('c(3) : {0}'.format(c)) # c : 1 \n",
    "#변수를 선언하는데 global로 선언하게 되고 함수를 호출하면 프로그램이 종료되기 전까지 존재하게 됨. -> 자바와 매핑한다면 static키워드를 생각하면 된다.\n",
    "#동일한 이름으로 생성된 변수들은 global변수로 대치됨!! 프로그램 전체 영역에 영향을 미치는 개념인 것이다!!"
   ]
  },
  {
   "cell_type": "code",
   "execution_count": 27,
   "id": "45b2c439",
   "metadata": {},
   "outputs": [
    {
     "name": "stdout",
     "output_type": "stream",
     "text": [
      "123\n"
     ]
    }
   ],
   "source": [
    "# 함수를 변수에 담아 사용\n",
    "\n",
    "def print_something(a):\n",
    "    print(a)\n",
    "    \n",
    "print_something(123)    "
   ]
  },
  {
   "cell_type": "code",
   "execution_count": 28,
   "id": "7de5aa73",
   "metadata": {},
   "outputs": [
    {
     "name": "stdout",
     "output_type": "stream",
     "text": [
      "123\n",
      "abc\n"
     ]
    }
   ],
   "source": [
    "#함수의 이름이 너무 길거나 직관적이지 못할 때 간단하게 내가 의미를 부여하여 정의하고 싶다면 변수를 선언하여 담을 수 있음!! (함수의 이름을 변수에 담아서 처리할 수 있도록 파이썬에서 기능을 제공)\n",
    "p = print_something #함수의 이름을 변경하는 것과 동일한 효과를 부여할 수 있음\n",
    "\n",
    "p(123)\n",
    "p('abc')"
   ]
  },
  {
   "cell_type": "code",
   "execution_count": 29,
   "id": "1b31a16b",
   "metadata": {},
   "outputs": [
    {
     "name": "stdout",
     "output_type": "stream",
     "text": [
      "3\n",
      "-1\n"
     ]
    }
   ],
   "source": [
    "# 순서열 / 딕셔너리에도 변수로 담아보기\n",
    "\n",
    "def plus(a, b):\n",
    "    return a + b\n",
    "\n",
    "def minus(a, b):\n",
    "    return a - b\n",
    "\n",
    "flist = [plus, minus] #함수를 리스트에 담아서 하나의 변수에 저장할 수 있음\n",
    "\n",
    "print(flist[0](1, 2)) # 인덱스로 리스트에 접근하여 함수를 호출!! # plus(1, 2)와 동일\n",
    "print(flist[1](1, 2)) # minus(1, 2)와 동일"
   ]
  },
  {
   "cell_type": "code",
   "execution_count": 30,
   "id": "f3592335",
   "metadata": {},
   "outputs": [
    {
     "name": "stdout",
     "output_type": "stream",
     "text": [
      "안녕하세요.\n"
     ]
    }
   ],
   "source": [
    "# 함수의 매개변수에 함수 전달 가능\n",
    "\n",
    "def hello_korea():\n",
    "    print('안녕하세요.')\n",
    "    \n",
    "def hello_english():\n",
    "    print('Hello.')\n",
    "    \n",
    "def greet(hello):\n",
    "    hello() #전달받은 변수를 함수 호출하듯이 코드를 구성\n",
    "\n",
    "greet(hello_korea) #매개변수를 함수로 전달\n",
    "greet(hello_english) \n",
    "#매개변수에는 자료형의 데이터 뿐만 아니라 함수도 전달받을 수 있다는 것을 체크하고 있자."
   ]
  },
  {
   "cell_type": "code",
   "execution_count": 32,
   "id": "e8ee73ff",
   "metadata": {},
   "outputs": [
    {
     "name": "stdout",
     "output_type": "stream",
     "text": [
      "안녕하세요.\n",
      "Hello.\n"
     ]
    }
   ],
   "source": [
    "# 함수 내에서 함수를 반환\n",
    "\n",
    "def get_greeting(where):\n",
    "    if where == 'K':\n",
    "        return hello_korea\n",
    "    elif where == 'E':\n",
    "        return hello_english\n",
    "    else:\n",
    "        return hello_korea\n",
    "    \n",
    "hello = get_greeting('K') #변수에 함수를 저장할 수 있기 때문에 반환된 함수도 저장할 수 있다.\n",
    "hello()\n",
    "hello = get_greeting('E') \n",
    "hello()"
   ]
  },
  {
   "cell_type": "markdown",
   "id": "cb3af6f2",
   "metadata": {},
   "source": [
    "## - 중첩 함수"
   ]
  },
  {
   "cell_type": "code",
   "execution_count": 37,
   "id": "447f5fc0",
   "metadata": {},
   "outputs": [
    {
     "name": "stdout",
     "output_type": "stream",
     "text": [
      "0.6\n"
     ]
    }
   ],
   "source": [
    "import math\n",
    "\n",
    "def stddev(*args): #표준 편차를 구하는 함수임\n",
    "    def mean():     # 중첩 함수\n",
    "        return sum(args) / len(args) #평균계산\n",
    "    \n",
    "    def variance(m): # 중첩 함수\n",
    "        total = 0\n",
    "        for arg in args:\n",
    "            total += (arg - m) ** 2\n",
    "            \n",
    "        return total / (len(args) - 1) \n",
    "        # 모집단의 표본으로 꺼내온 데이터의 갯수에서 하나를 뺀 것을 자유도라고 표현함. 자유도의 값으로 나누는 개념이 분산임\n",
    "        # 분산의 개념을 함수를 통해 정의한 것이다. \n",
    "    \n",
    "    v = variance(mean())\n",
    "    return math.sqrt(v) #sqrt: 루트를 씌우는 함수\n",
    "\n",
    "print(stddev(2.3, 1.7, 1.4, 0.7, 1.9))"
   ]
  },
  {
   "cell_type": "code",
   "execution_count": 38,
   "id": "9a4a1a3b",
   "metadata": {},
   "outputs": [
    {
     "ename": "NameError",
     "evalue": "name 'mean' is not defined",
     "output_type": "error",
     "traceback": [
      "\u001b[1;31m---------------------------------------------------------------------------\u001b[0m",
      "\u001b[1;31mNameError\u001b[0m                                 Traceback (most recent call last)",
      "Cell \u001b[1;32mIn[38], line 2\u001b[0m\n\u001b[0;32m      1\u001b[0m \u001b[38;5;66;03m# 주의\u001b[39;00m\n\u001b[1;32m----> 2\u001b[0m \u001b[43mmean\u001b[49m()\n",
      "\u001b[1;31mNameError\u001b[0m: name 'mean' is not defined"
     ]
    }
   ],
   "source": [
    "# 주의\n",
    "mean() # error - 중첩 함수는 외부에서 호출 불가능."
   ]
  },
  {
   "cell_type": "code",
   "execution_count": 39,
   "id": "bc51e2f6",
   "metadata": {},
   "outputs": [],
   "source": [
    "# pass : 기능의 구현을 잠시 미루자\n",
    "#기능의 틀만 우선적으로 작성하고 세부적인 기능을 나중으로 미뤄서 구현하고자 할 때는 빈번하게 생기는 상황이다.\n",
    "\n",
    "def empty_function(): \n",
    "    pass #함수를 정의하면서 pass키워드를 작성하면 함수에 대한 세부기능을 나중에 정의할 수 있도록 에러를 내지 않고 실행해주게 된다.\n",
    "\n",
    "empty_function()    "
   ]
  },
  {
   "cell_type": "code",
   "execution_count": null,
   "id": "15c65990",
   "metadata": {},
   "outputs": [],
   "source": [
    "# cf()\n",
    "class empty_class: #파이썬도 객체지향언어로써 class의(참조자료형) 키워드를 제공해주고 있다.\n",
    "    pass #함수뿐만 아니라 클래스도 pass키워드를 적용하면 기능에 대해 임시적으로 보류할 수 있다. "
   ]
  }
 ],
 "metadata": {
  "kernelspec": {
   "display_name": "Python [conda env:tf_cpu] *",
   "language": "python",
   "name": "conda-env-tf_cpu-py"
  },
  "language_info": {
   "codemirror_mode": {
    "name": "ipython",
    "version": 3
   },
   "file_extension": ".py",
   "mimetype": "text/x-python",
   "name": "python",
   "nbconvert_exporter": "python",
   "pygments_lexer": "ipython3",
   "version": "3.8.16"
  }
 },
 "nbformat": 4,
 "nbformat_minor": 5
}
