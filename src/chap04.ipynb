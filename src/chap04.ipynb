{
 "cells": [
  {
   "cell_type": "markdown",
   "metadata": {},
   "source": [
    "# 조건문"
   ]
  },
  {
   "cell_type": "code",
   "execution_count": 1,
   "metadata": {},
   "outputs": [
    {
     "name": "stdout",
     "output_type": "stream",
     "text": [
      "수를 입력하세요 : \n",
      "33\n",
      "3 / 33 = 0.09090909090909091\n"
     ]
    }
   ],
   "source": [
    "import sys #파이썬에서 제공하는 모듈(패키지)\n",
    "\n",
    "print('수를 입력하세요 : ')\n",
    "\n",
    "#사용자가 데이터를 입력할 때까지 대기 => 자바의 scanner, 자바스크립트는 input메소드, R은 scan메소드를 제공\n",
    "num = int(input()) #사용자가 데이터를 입력하고 엔터를 치게 되면 문자열 형태로 모든 데이터를 반환해주게 됨)\n",
    "#숫자를 입력받더라도 숫자형 문자열을 반환해주게 되는 것이다.\n",
    "#입력으로 전달된 숫자형 문자열일 때 숫자형으로 꺼내오고 싶을 때 -> 정수형은 int(), 실수는 float()으로 형변환 가능\n",
    "\n",
    "#다른 프로그래밍 언어들은 if 다음에 ()에 조건을 작성해줬었음. 파이썬은 ()를 써줘도 되지만 일반적으로 생략한다. => 조건작성은 동일\n",
    "# 또한, 타 프로그래밍 언어들은 영역을 {}중괄호로 표현해주고 있었지만 파이썬은 조건문을 작성하고 난 뒤에 :콜론을 작성하면서 영역이 시작된다는 표시를 해줘야 한다.\n",
    "if num == 0: #들여쓰기가 영역이 되는 것임!!! 타프로그래밍 언어들은 여백이 생기면 무시했지만 파이썬은 문법요소가 된 것이다. 즉, 들여쓰기가 되지 않으면 영역이 제대로 인식되지 않는 것이라고 생각하면 된다.\n",
    "    print('0은 나눗셈에 이용할 수 없습니다.') #***영역에서도 동일한 여백일 때 같은 영역이라고 인식됨!!\n",
    "    sys.exit(0) #0의 값을 넣어주게 되면 현재 실행되어지는 영역에서 빠져나가면서 프로그램을 종료해주게 된다.\n",
    "    #파이썬에서 권고하기로는 스페이스바 4개의 여백을 두는 것으로 함. 영역에 관련된 들여쓰기 여백이 지정되어져 있는 것이 아님\n",
    "    \n",
    "print('3 /', num, '=', 3 / num) #여백을 주지 않으면 바로 건너뛰면서 다음 명령을 수행하게 되는 것임\n",
    "# 0이 아닐때 3의 값으로 나누고 싶은 것"
   ]
  },
  {
   "cell_type": "code",
   "execution_count": 2,
   "metadata": {},
   "outputs": [
    {
     "name": "stdout",
     "output_type": "stream",
     "text": [
      "수를 입력하세요: \n",
      "3\n",
      "3 / 3 = 1.0\n",
      "프로그램 종료\n"
     ]
    }
   ],
   "source": [
    "#위와 동일한 동작을 수행하는 코드를 else문을 추가하여 작성해본 것임.\n",
    "print('수를 입력하세요: ')\n",
    "num = int(input())\n",
    "\n",
    "if num == 0:\n",
    "    print('0은 나눗셈에 이용할 수 없습니다.')\n",
    "else: #else문에도 영역이 시작되는 표시를 빼먹지 않도록 주의!!\n",
    "    print('3 /', num, '=', 3 / num)\n",
    "    \n",
    "print('프로그램 종료')"
   ]
  },
  {
   "cell_type": "code",
   "execution_count": 4,
   "metadata": {},
   "outputs": [
    {
     "name": "stdout",
     "output_type": "stream",
     "text": [
      "요일(월~일)을 입력하세요 : \n",
      "금\n",
      "Friday\n"
     ]
    }
   ],
   "source": [
    "print('요일(월~일)을 입력하세요 : ')\n",
    "dow = input()\n",
    "\n",
    "#파이썬은 비교연산을 할 때 문자열끼리도 가능함. '=='의 기호를 활용하면 문자열 내용을 비교함!!\n",
    "#조건을 만나서 실행한 후에는 if elif else를 빠져나간 뒤에 이후 명령들을 수행한다.\n",
    "if dow == '월':\n",
    "    print('Monday')\n",
    "elif dow == '화': #자바의 else if랑 동일한 것임. / elif의 갯수는 제한이 없음.\n",
    "    print('Tuesday')\n",
    "elif dow == '수':\n",
    "    print('Wednesday')\n",
    "elif dow == '목':\n",
    "    print('Thursday')\n",
    "elif dow == '금':\n",
    "    print('Friday')\n",
    "elif dow == '토':\n",
    "    print('Saturday')\n",
    "elif dow == '일':\n",
    "    print('Sunday')\n",
    "else:\n",
    "    print('잘못 입력된 요일입니다.')"
   ]
  },
  {
   "cell_type": "code",
   "execution_count": 6,
   "metadata": {},
   "outputs": [
    {
     "name": "stdout",
     "output_type": "stream",
     "text": [
      "수를 입력하세요: \n",
      "20\n",
      "10보다 큰 짝수\n"
     ]
    }
   ],
   "source": [
    "print('수를 입력하세요: ')\n",
    "num = int(input())\n",
    "\n",
    "#중첩해서 조건문들을 사용할 수 있음\n",
    "#주의) 들여쓰기를 잘 보기. 들여쓰기를 통해서 영역에 해당하는 조건문들을 파이썬이 해석함\n",
    "if num > 10: \n",
    "    if num % 2 == 0:\n",
    "        print('10보다 큰 짝수')\n",
    "    else:\n",
    "        print('10보다 큰 홀수')\n",
    "else:\n",
    "    if num % 2 == 0:\n",
    "        print('10이하의 짝수')\n",
    "    else:\n",
    "        print('10이하의 홀수')"
   ]
  },
  {
   "cell_type": "code",
   "execution_count": 7,
   "metadata": {},
   "outputs": [
    {
     "name": "stdout",
     "output_type": "stream",
     "text": [
      "수를 입력하세요: \n",
      "25\n",
      "10보다 큰 홀수\n"
     ]
    }
   ],
   "source": [
    "print('수를 입력하세요: ')\n",
    "num = int(input())\n",
    "\n",
    "#논리연산자를 사용해서 조건구문의 처리를 정의함.\n",
    "if num > 10 and num % 2 == 0: # 앞에 조건이 참이여야 뒤에 조건을 들여다 봄 => 하지만 두 조건이 참이여야 영역안에 메시지를 수행한다.\n",
    "    print('10보다 큰 짝수')\n",
    "elif num > 10 and num % 2 != 0:\n",
    "    print('10보다 큰 홀수')\n",
    "elif num % 2 == 0:\n",
    "    print('10이하의 짝수')\n",
    "else:\n",
    "    print('10이하의 홀수')\n"
   ]
  },
  {
   "cell_type": "markdown",
   "metadata": {},
   "source": [
    "# 반복문(while, for)"
   ]
  },
  {
   "cell_type": "code",
   "execution_count": 9,
   "metadata": {},
   "outputs": [
    {
     "name": "stdout",
     "output_type": "stream",
     "text": [
      "몇 번 반복할까요? : \n",
      "5\n",
      "1회 반복\n",
      "2회 반복\n",
      "3회 반복\n",
      "4회 반복\n",
      "5회 반복\n",
      "반복이 종료.\n"
     ]
    }
   ],
   "source": [
    "print('몇 번 반복할까요? : ')\n",
    "\n",
    "limit = int(input())\n",
    "\n",
    "count = 0\n",
    "\n",
    "#while에서 조건 작성 시 ()를 제외하고 작성하도록 하며, 콜론(:)의 기호를 통해서 영역이 시작된다고 알려주면 됨.\n",
    "# 들여쓰기를 통해서 자신의 영역을 구분하면서 실행하게 될 것이다.\n",
    "while count < limit:\n",
    "    count = count + 1 #반복을 벗어날 수 있는 count값을 영역 안에 꼭 작성을 해줘야 한다. 그래야 무한굴레에 빠져들지 않음.\n",
    "    print('{0}회 반복'.format(count)) #문자열에 관련된 메소드 중에서 .format메소드는 디버깅용으로 많이 활용되어진다.\n",
    "    #format의 기능은 자바에서 printf와 유사성이 있음. 출력하고 싶은 값을 {}로 표현을 해주고 입력에 순서대로 대입할 변수를 넣어주면 됨.\n",
    "    #한개의 값을 출력하는 것이기 때문에 아무값을 넣지 않아도 무관하지만 0을 넣어주면서 직관성을 높이도록 함.\n",
    "    \n",
    "print('반복이 종료.')\n",
    "    "
   ]
  },
  {
   "cell_type": "code",
   "execution_count": 11,
   "metadata": {},
   "outputs": [
    {
     "name": "stdout",
     "output_type": "stream",
     "text": [
      "반복을 계속할까요? [예/아니오] : \n",
      "예\n",
      "반복을 계속합니다.\n",
      "반복을 계속할까요? [예/아니오] : \n",
      "에?\n",
      "정상적인 답변이 아닙니다.\n",
      "반복을 계속할까요? [예/아니오] : \n",
      "아니오\n",
      "반복 종료\n"
     ]
    }
   ],
   "source": [
    "while True: \n",
    "    print('반복을 계속할까요? [예/아니오] : ')\n",
    "    answer = input()\n",
    "    \n",
    "    if answer == '예':\n",
    "        print('반복을 계속합니다.')\n",
    "    elif answer == '아니오':\n",
    "        break #반복문을 벗어나는 키워드임(영역을 벗어나도록 하는 것)\n",
    "    else:\n",
    "        print('정상적인 답변이 아닙니다.')\n",
    "        \n",
    "print('반복 종료')"
   ]
  },
  {
   "cell_type": "code",
   "execution_count": 12,
   "metadata": {},
   "outputs": [
    {
     "name": "stdout",
     "output_type": "stream",
     "text": [
      "10\n",
      "20\n",
      "30\n"
     ]
    }
   ],
   "source": [
    "#자바와 for구문의 형식부터가 다름. 자바 5.0버전부터 추가되어진 for each와 유사하게 for반복문을 제공해주고 있음\n",
    "for i in (10, 20, 30): #몇 번 반복할 것인지에 대한 범위지정이 in 뒤에 오는데 튜플 자료형으로 정의해주도록 한다.\n",
    "    print(i)"
   ]
  },
  {
   "cell_type": "code",
   "execution_count": 13,
   "metadata": {},
   "outputs": [
    {
     "name": "stdout",
     "output_type": "stream",
     "text": [
      "더조은\n",
      "컴퓨터\n",
      "아카데미\n"
     ]
    }
   ],
   "source": [
    "#in뒤에는 튜플이라는 자료형으로도 올 수 있고, 리스트의 자료형, 문자열로도 지정할 수 있다.\n",
    "for s in ['더조은', '컴퓨터', '아카데미']: #리스트의 값들을 하나하나 읽어오면서 반복 수행한다.\n",
    "    print(s)"
   ]
  },
  {
   "cell_type": "code",
   "execution_count": 14,
   "metadata": {},
   "outputs": [
    {
     "name": "stdout",
     "output_type": "stream",
     "text": [
      "더\n",
      "조\n",
      "은\n",
      " \n",
      "컴\n",
      "퓨\n",
      "터\n",
      " \n",
      "아\n",
      "카\n",
      "데\n",
      "미\n"
     ]
    }
   ],
   "source": [
    "for s in '더조은 컴퓨터 아카데미' : #문자열 같은 경우 한글자씩 잘라서 반복을 해준다.(공백포함) - 문자열의 길이만큼 반복되어지는 것\n",
    "    print(s)"
   ]
  },
  {
   "cell_type": "code",
   "execution_count": 15,
   "metadata": {},
   "outputs": [
    {
     "name": "stdout",
     "output_type": "stream",
     "text": [
      "0\n",
      "1\n",
      "2\n",
      "3\n",
      "4\n"
     ]
    }
   ],
   "source": [
    "#일반적으로는 파이썬에서 몇번 반복할지 지정할 때 range라는 함수와 같이 사용되어지는 경우가 가장 일반적이다.\n",
    "for i in range(0, 5, 1): #range(시작값_start, 마지막값_end, 간격_step):몇번 반복되어질 것인지를 셋팅해주는 함수 => 인덱스로 생각을 해야한다. end값을 지정하면 -1값으로 처리된다.\n",
    "    print(i)"
   ]
  },
  {
   "cell_type": "code",
   "execution_count": 16,
   "metadata": {},
   "outputs": [
    {
     "name": "stdout",
     "output_type": "stream",
     "text": [
      "0\n",
      "2\n",
      "4\n",
      "6\n",
      "8\n"
     ]
    }
   ],
   "source": [
    "for i in range(0, 10, 2):\n",
    "    print(i)"
   ]
  },
  {
   "cell_type": "code",
   "execution_count": 17,
   "metadata": {},
   "outputs": [
    {
     "name": "stdout",
     "output_type": "stream",
     "text": [
      "0\n",
      "1\n",
      "2\n",
      "3\n",
      "4\n"
     ]
    }
   ],
   "source": [
    "for i in range(0, 5): #스탭의 디폴트가 1임 \n",
    "    print(i)"
   ]
  },
  {
   "cell_type": "code",
   "execution_count": 18,
   "metadata": {},
   "outputs": [
    {
     "name": "stdout",
     "output_type": "stream",
     "text": [
      "0\n",
      "1\n",
      "2\n",
      "3\n",
      "4\n"
     ]
    }
   ],
   "source": [
    "for i in range(5): #하나의 값만 넣어주게 되면 그 값을 end값으로 지정해주게 됨. start의 디폴트값은 0임\n",
    "    print(i)"
   ]
  },
  {
   "cell_type": "code",
   "execution_count": 19,
   "metadata": {},
   "outputs": [
    {
     "ename": "TypeError",
     "evalue": "'int' object is not iterable",
     "output_type": "error",
     "traceback": [
      "\u001b[1;31m---------------------------------------------------------------------------\u001b[0m",
      "\u001b[1;31mTypeError\u001b[0m                                 Traceback (most recent call last)",
      "Cell \u001b[1;32mIn[19], line 2\u001b[0m\n\u001b[0;32m      1\u001b[0m \u001b[38;5;66;03m# 주의\u001b[39;00m\n\u001b[1;32m----> 2\u001b[0m \u001b[38;5;28;01mfor\u001b[39;00m i \u001b[38;5;129;01min\u001b[39;00m \u001b[38;5;241m5\u001b[39m: \u001b[38;5;66;03m#숫자 5를 단독으로 써주게 되면?\u001b[39;00m\n\u001b[0;32m      3\u001b[0m     \u001b[38;5;28mprint\u001b[39m(i)\n",
      "\u001b[1;31mTypeError\u001b[0m: 'int' object is not iterable"
     ]
    }
   ],
   "source": [
    "# 주의\n",
    "#숫자 5를 단독으로 써주게 되면? error -> 내부에서는 객체로 처리를 해주게 됨. 그렇기 때문에 int라는 객체는 iterable하지 않다고 메시지를 띄우면서 프로그램을 종료함\n",
    "for i in 5: \n",
    "    print(i)"
   ]
  },
  {
   "cell_type": "code",
   "execution_count": 20,
   "metadata": {},
   "outputs": [
    {
     "name": "stdout",
     "output_type": "stream",
     "text": [
      "*\n",
      "**\n",
      "***\n",
      "****\n",
      "*****\n"
     ]
    }
   ],
   "source": [
    "#반복문도 중첩해서 사용 가능\n",
    "for i in range(1, 6):  # 1, 2, 3, 4, 5\n",
    "    #시작은 1, 마지막은 6-1로 하여 반복하게 될 것임.\n",
    "    for j in range(i):\n",
    "        print(\"*\", end=\"\") #print에 end라는 매개변수에 빈 여백을 셋팅해주게 되면 \n",
    "        #디폴트는 \\n이지만 빈 문자열을 넣어주게 되면 \\n이 사라지는 효과이기 때문에 print메소드와 동일하게 실행이 되어진다.\n",
    "        \n",
    "    print()   "
   ]
  },
  {
   "cell_type": "code",
   "execution_count": 21,
   "metadata": {},
   "outputs": [
    {
     "name": "stdout",
     "output_type": "stream",
     "text": [
      "애플:www.apple.com\n",
      "파이썬:www.python.org\n",
      "네이버:www.naver.com\n"
     ]
    }
   ],
   "source": [
    "#!!!이 형태의 코드를 잘 관찰!!!\n",
    "dic = {'애플':'www.apple.com', '파이썬':'www.python.org', '네이버':'www.naver.com'}\n",
    "\n",
    "#파이썬으로 작성되어져 있는 거의 모든 코드들이 아래와 같이 작성이 되어져 있음. 데이터 분석에서도 빈번하게 볼 코드임 (머신러닝, 딥러닝 코드에서 거의 빠지지 않고 등장하는 형태임)\n",
    "for k, v in dic.items(): # items는 키와 벨류값을 동시에 출력해주는 메소드였음. \n",
    "    print(\"{0}:{1}\".format(k, v)) #언패킹에 의해서 다이렉트로 각각의 데이터를 꺼내와서 처리하도록 한다!!"
   ]
  },
  {
   "cell_type": "code",
   "execution_count": 22,
   "metadata": {},
   "outputs": [
    {
     "name": "stdout",
     "output_type": "stream",
     "text": [
      "0\n",
      "2\n",
      "4\n",
      "6\n",
      "8\n"
     ]
    }
   ],
   "source": [
    "# continue\n",
    "for i in range(10):\n",
    "    if i % 2 == 1: #홀수일때는 다시 반복문으로 올라감\n",
    "        continue #continue키워드를 만나는 순간 반복문으로 올라가서 다음 데이터를 꺼내오고 실행이 되어지게끔 처리가 됨\n",
    "        \n",
    "    print(i) #짝수만 출력될 것임."
   ]
  },
  {
   "cell_type": "code",
   "execution_count": 23,
   "metadata": {},
   "outputs": [
    {
     "name": "stdout",
     "output_type": "stream",
     "text": [
      "1\n",
      "2\n",
      "3\n",
      "4\n",
      "5\n",
      "6\n",
      "7\n",
      "8\n",
      "9\n",
      "i가 10이 됐습니다, 반복문을 중단합니다.\n"
     ]
    }
   ],
   "source": [
    "# break\n",
    "i = 0\n",
    "\n",
    "while True: #무한 반복이 돌텐데 i값이 10일때 반복문을 벗어나게 됨\n",
    "    i = i + 1\n",
    "    if i == 10:\n",
    "        print('i가 {0}이 됐습니다, 반복문을 중단합니다.'.format(i))\n",
    "        break #반복문을 벗어나라는 구문\n",
    "        \n",
    "    print(i)"
   ]
  },
  {
   "cell_type": "markdown",
   "metadata": {},
   "source": [
    "## 간단하게 반복하는 한 줄 for 문(Comprehension) - 파이썬에서 아주 많이 활용됨!!\n",
    "#for문의 특성을 파악해야 Comprehension동작을 이해할 수 있음"
   ]
  },
  {
   "cell_type": "code",
   "execution_count": 26,
   "metadata": {},
   "outputs": [
    {
     "name": "stdout",
     "output_type": "stream",
     "text": [
      "[9, 16, 25]\n"
     ]
    }
   ],
   "source": [
    "#데이터 분석의 전처리에서 응용되어지는 코드의 작성법이다.\n",
    "numbers = [1, 2, 3, 4, 5]\n",
    "square = [i**2 for i in numbers if i >= 3] #실질적으로 파이썬에서 만나게 될 코드 구문. 코드만 보고 결과를 유추할 수 있어야 함. (***최종적인 구문***)\n",
    "#자료형이 리스트인데 반복문이 나오고 조건문이 오고 있음.\n",
    "#for문 뒤에 나오는 if문은 for안에 구성되어져 있는 명령문인 것이다.\n",
    "#그렇다면 for문을 통해 데이터를 가지고 와서 조건문을 수행하고 해당하는 데이터를 앞에 있는 식을 실행한 후에 변수에 값을 담아주는 것임!!!\n",
    "print(square)"
   ]
  },
  {
   "cell_type": "code",
   "execution_count": 24,
   "metadata": {},
   "outputs": [
    {
     "name": "stdout",
     "output_type": "stream",
     "text": [
      "[1, 4, 9, 16, 25]\n"
     ]
    }
   ],
   "source": [
    "numbers = [1, 2, 3, 4, 5] #리스트를 담을 변수 선언\n",
    "square = [] #자료형만 리스트형으로 하여 선언\n",
    "\n",
    "for i in numbers:\n",
    "    square.append(i**2) #** -> 제곱\n",
    "    #제곱의 값들이 square에 차곡차곡 담기게 될 것임\n",
    "    \n",
    "print(square)"
   ]
  },
  {
   "cell_type": "code",
   "execution_count": 25,
   "metadata": {},
   "outputs": [
    {
     "name": "stdout",
     "output_type": "stream",
     "text": [
      "[1, 4, 9, 16, 25]\n"
     ]
    }
   ],
   "source": [
    "numbers = [1, 2, 3, 4, 5]\n",
    "square = [i**2 for i in numbers] \n",
    "#반복문을 먼저 수행하는데, 반복문에서 가지고 온 값을 가지고 앞에 있는 식을 수행한 후에 square변수에 값을 담아주게 됨\n",
    "#즉, 반복문에서 처리될 결과를 앞에 표현해주는 것이다.\n",
    "print(square)"
   ]
  },
  {
   "cell_type": "code",
   "execution_count": 27,
   "metadata": {},
   "outputs": [
    {
     "name": "stdout",
     "output_type": "stream",
     "text": [
      "[9, 16, 25]\n"
     ]
    }
   ],
   "source": [
    "numbers = [1, 2, 3, 4, 5]\n",
    "square = []\n",
    "\n",
    "for i in numbers:\n",
    "    #데이터를 다이렉트로 추가해주는 것이 아닌 조건문까지 포함을 시킨 것이다.\n",
    "    if i >= 3: # i값이 3 이상일 경우에 아래에 코드 실행 / 3,4,5만 실행하여 담아줄 것임.\n",
    "        square.append(i**2) \n",
    "    \n",
    "print(square)"
   ]
  },
  {
   "cell_type": "code",
   "execution_count": null,
   "metadata": {},
   "outputs": [],
   "source": []
  }
 ],
 "metadata": {
  "kernelspec": {
   "display_name": "Python [conda env:tf_cpu] *",
   "language": "python",
   "name": "conda-env-tf_cpu-py"
  },
  "language_info": {
   "codemirror_mode": {
    "name": "ipython",
    "version": 3
   },
   "file_extension": ".py",
   "mimetype": "text/x-python",
   "name": "python",
   "nbconvert_exporter": "python",
   "pygments_lexer": "ipython3",
   "version": "3.8.16"
  }
 },
 "nbformat": 4,
 "nbformat_minor": 4
}
