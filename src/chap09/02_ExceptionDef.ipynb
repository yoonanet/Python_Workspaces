{
 "cells": [
  {
   "cell_type": "markdown",
   "id": "1eb5e83a",
   "metadata": {},
   "source": [
    "# 파이썬의 예외처리 구문1\n",
    "\n",
    "##### try:\n",
    "   ##### 문제가 없을 경우 실행 할 코드\n",
    "##### except: \n",
    "   ##### 문제가 생겼을 때 실행 할 코드"
   ]
  },
  {
   "cell_type": "code",
   "execution_count": 2,
   "id": "1c5894e0",
   "metadata": {},
   "outputs": [
    {
     "ename": "ZeroDivisionError",
     "evalue": "division by zero",
     "output_type": "error",
     "traceback": [
      "\u001b[1;31m---------------------------------------------------------------------------\u001b[0m",
      "\u001b[1;31mZeroDivisionError\u001b[0m                         Traceback (most recent call last)",
      "Cell \u001b[1;32mIn[2], line 1\u001b[0m\n\u001b[1;32m----> 1\u001b[0m \u001b[38;5;28mprint\u001b[39m(\u001b[38;5;241;43m1\u001b[39;49m\u001b[38;5;241;43m/\u001b[39;49m\u001b[38;5;241;43m0\u001b[39;49m)\n",
      "\u001b[1;31mZeroDivisionError\u001b[0m: division by zero"
     ]
    }
   ],
   "source": [
    "print(1/0) #기본적으로 예외가 발생하면 메시지와 함께 프로그램이 종료하게 됨"
   ]
  },
  {
   "cell_type": "code",
   "execution_count": 3,
   "id": "8357b0d9",
   "metadata": {},
   "outputs": [
    {
     "name": "stdout",
     "output_type": "stream",
     "text": [
      "예외가 발생했습니다.\n",
      "프로그램 종료.\n"
     ]
    }
   ],
   "source": [
    "#예외가 발생했을 때 except가 실행되면서 메시지가 출력되고, 프로그램이 강제 종료되지 않고 다음 명령을 수행하러 감.\n",
    "try:\n",
    "    print(1 / 0)\n",
    "except: #자바에서는 catch\n",
    "    print(\"예외가 발생했습니다.\")\n",
    "    \n",
    "print(\"프로그램 종료.\")"
   ]
  },
  {
   "cell_type": "markdown",
   "id": "175d8eae",
   "metadata": {},
   "source": [
    "# 파이썬의 예외처리 구문2\n",
    "\n",
    "##### try:\n",
    "   ##### 문제가 없을 경우 실행 할 코드\n",
    "##### except 예외형식1:\n",
    "   ##### 문제가 생겼을 때 실행 할 코드\n",
    "##### except 예외형식2:\n",
    "   ##### 문제가 생겼을 때 실행 할 코드"
   ]
  },
  {
   "cell_type": "code",
   "execution_count": 6,
   "id": "50030ebc",
   "metadata": {},
   "outputs": [
    {
     "name": "stdout",
     "output_type": "stream",
     "text": [
      "첨자(인덱스)를 입력하세요: \n",
      "2\n",
      "0으로 나눌 수 없습니다(division by zero).\n",
      "프로그램 종료.\n"
     ]
    }
   ],
   "source": [
    "my_list = [1, 2, 3]\n",
    "\n",
    "try:\n",
    "    print(\"첨자(인덱스)를 입력하세요: \")\n",
    "    index = int(input())\n",
    "    print(my_list[index] / 0)\n",
    "except IndexError as e: #인덱스에 벗어나는 값을 입력했을 경우\n",
    "    print(f\"잘못된 첨자입니다({e}).\")\n",
    "except ValueError as e: #숫자 이외의 값을 입력했을 경우\n",
    "    print(f\"잘못된 값입니다({e}).\")\n",
    "except ZeroDivisionError as e: #나누는 과정에서 0으로 나누어질 경우\n",
    "    print(f\"0으로 나눌 수 없습니다({e}).\")\n",
    "#except키워드를 통해서 발생할 수 있는 여러 에러들을 동시에 처리할 수 있다.\n",
    "    \n",
    "print(\"프로그램 종료.\")"
   ]
  },
  {
   "cell_type": "markdown",
   "id": "ad7b8261",
   "metadata": {},
   "source": [
    "# 파이썬의 예외처리 구문3\n",
    "\n",
    "##### try:\n",
    "   ##### 문제가 없을 경우 실행 할 코드\n",
    "##### except 예외형식1:\n",
    "   ##### 문제가 생겼을 때 실행 할 코드\n",
    "##### except 예외형식2:\n",
    "   ##### 문제가 생겼을 때 실행 할 코드\n",
    "##### else:\n",
    "   ##### except 절을 만나지 않았을 경우 실행하는 코드 블록"
   ]
  },
  {
   "cell_type": "code",
   "execution_count": 9,
   "id": "f2e6077c",
   "metadata": {},
   "outputs": [
    {
     "name": "stdout",
     "output_type": "stream",
     "text": [
      "첨자(인덱스)를 입력하세요: \n",
      "1\n",
      "my_list[1]:2\n",
      "리스트의 요소 출력에 성공.\n",
      "프로그램 종료\n"
     ]
    }
   ],
   "source": [
    "my_list = [1, 2, 3]\n",
    "\n",
    "try:\n",
    "    print(\"첨자(인덱스)를 입력하세요: \")\n",
    "    index = int(input())\n",
    "    print(f\"my_list[{index}]:{my_list[index]}\")\n",
    "except Exception as e: #최상위 예외 클래스 -> Exception \n",
    "    print(f\"예외가 발생했습니다({e}).\")\n",
    "else: \n",
    "#일반적으로 else구문을 처리하고자 할 때는 예외가 발생되지 않았을 경우에 처리하고 싶은 내용을 구성을 해주게끔 한다. -> 파이썬만이 제공해주는 특징임 \n",
    "    print(\"리스트의 요소 출력에 성공.\")\n",
    "\n",
    "print(\"프로그램 종료\")"
   ]
  },
  {
   "cell_type": "markdown",
   "id": "b463a258",
   "metadata": {},
   "source": [
    "# 파이썬의 예외처리 구문4\n",
    "\n",
    "##### try:\n",
    "   ##### 문제가 없을 경우 실행 할 코드\n",
    "##### except 예외형식1:\n",
    "   ##### 문제가 생겼을 때 실행 할 코드\n",
    "##### except 예외형식2:\n",
    "   ##### 문제가 생겼을 때 실행 할 코드\n",
    "##### else:\n",
    "   ##### except 절을 만나지 않았을 경우 실행하는 코드 블록\n",
    "##### finally:\n",
    "   #####  코드 블록 (반드시 한번은 실행되는 구문)\n",
    "\n",
    "### or\n",
    "\n",
    "##### try:\n",
    "   ##### 문제가 없을 경우 실행 할 코드\n",
    "##### except:\n",
    "   ##### 예외 처리 코드 블록\n",
    "##### finally:\n",
    "   #####  코드 블록 (반드시 한번은 실행되는 구문)   "
   ]
  },
  {
   "cell_type": "code",
   "execution_count": 11,
   "id": "3674011f",
   "metadata": {},
   "outputs": [
    {
     "name": "stdout",
     "output_type": "stream",
     "text": [
      "첨자(인덱스)를 입력하세요: \n",
      "0\n",
      "my_list[0]:1\n",
      "예외 발생 여부 상관없이 반드시 실행.\n",
      "프로그램 종료\n"
     ]
    }
   ],
   "source": [
    "my_list = [1, 2, 3]\n",
    "\n",
    "try:\n",
    "    print(\"첨자(인덱스)를 입력하세요: \")\n",
    "    index = int(input())\n",
    "    print(f\"my_list[{index}]:{my_list[index]}\")\n",
    "except Exception as e: \n",
    "    print(f\"예외가 발생했습니다({e}).\")\n",
    "finally: \n",
    "    print(\"예외 발생 여부 상관없이 반드시 실행.\")\n",
    "\n",
    "print(\"프로그램 종료\")"
   ]
  },
  {
   "cell_type": "markdown",
   "id": "04c2965c",
   "metadata": {},
   "source": [
    "## - 강제 예외 발생"
   ]
  },
  {
   "cell_type": "code",
   "execution_count": 14,
   "id": "48676039",
   "metadata": {},
   "outputs": [
    {
     "name": "stdout",
     "output_type": "stream",
     "text": [
      "홍\n"
     ]
    },
    {
     "ename": "Exception",
     "evalue": "입력 받은 문자열이 숫자로 구성되어 있지 않습니다.",
     "output_type": "error",
     "traceback": [
      "\u001b[1;31m---------------------------------------------------------------------------\u001b[0m",
      "\u001b[1;31mException\u001b[0m                                 Traceback (most recent call last)",
      "Cell \u001b[1;32mIn[14], line 5\u001b[0m\n\u001b[0;32m      1\u001b[0m text \u001b[38;5;241m=\u001b[39m \u001b[38;5;28minput\u001b[39m()\n\u001b[0;32m      3\u001b[0m \u001b[38;5;28;01mif\u001b[39;00m text\u001b[38;5;241m.\u001b[39misdigit() \u001b[38;5;241m==\u001b[39m \u001b[38;5;28;01mFalse\u001b[39;00m: \u001b[38;5;66;03m#반환받은 데이터가 숫자형의 문자열 데이터인지를 체크하는 구문 \u001b[39;00m\n\u001b[0;32m      4\u001b[0m \u001b[38;5;66;03m#isdigit():문자열 데이터이지만 숫자로 구성되어져 있는지를 체크 -> 숫자형 데이터일 경우 True를 반환, 문자나 특수문자가 포함되어있으면 False로 반환함\u001b[39;00m\n\u001b[1;32m----> 5\u001b[0m     \u001b[38;5;28;01mraise\u001b[39;00m \u001b[38;5;167;01mException\u001b[39;00m(\u001b[38;5;124m\"\u001b[39m\u001b[38;5;124m입력 받은 문자열이 숫자로 구성되어 있지 않습니다.\u001b[39m\u001b[38;5;124m\"\u001b[39m) \u001b[38;5;66;03m#강제로 예외 발생\u001b[39;00m\n\u001b[0;32m      7\u001b[0m \u001b[38;5;28mprint\u001b[39m(\u001b[38;5;124m\"\u001b[39m\u001b[38;5;124m프로그램 종료.\u001b[39m\u001b[38;5;124m\"\u001b[39m)\n",
      "\u001b[1;31mException\u001b[0m: 입력 받은 문자열이 숫자로 구성되어 있지 않습니다."
     ]
    }
   ],
   "source": [
    "text = input()\n",
    "\n",
    "if text.isdigit() == False: #반환받은 데이터가 숫자형의 문자열 데이터인지를 체크하는 구문 \n",
    "#isdigit():문자열 데이터이지만 숫자로 구성되어져 있는지를 체크 -> 숫자형 데이터일 경우 True를 반환, 문자나 특수문자가 포함되어있으면 False로 반환함\n",
    "    raise Exception(\"입력 받은 문자열이 숫자로 구성되어 있지 않습니다.\") #강제로 예외 발생\n",
    "\n",
    "print(\"프로그램 종료.\")"
   ]
  },
  {
   "cell_type": "code",
   "execution_count": 15,
   "id": "c2cc2c93",
   "metadata": {},
   "outputs": [
    {
     "name": "stdout",
     "output_type": "stream",
     "text": [
      "홍\n",
      "예외가 발생했습니다. : 입력 받은 문자열이 숫자로 구성되어 있지 않습니다.\n",
      "프로그램 종료.\n"
     ]
    }
   ],
   "source": [
    "try:\n",
    "    text = input()\n",
    "\n",
    "    if text.isdigit() == False:\n",
    "        raise Exception(\"입력 받은 문자열이 숫자로 구성되어 있지 않습니다.\") \n",
    "\n",
    "except Exception as e: #강제로 프로그램을 종료하지 않고 다음 명령문을 바로 수행하는 것을 확인할 수 있다.\n",
    "    print(f\"예외가 발생했습니다. : {e}\")\n",
    "\n",
    "\n",
    "print(\"프로그램 종료.\")"
   ]
  },
  {
   "cell_type": "code",
   "execution_count": 17,
   "id": "e413106b",
   "metadata": {},
   "outputs": [],
   "source": [
    "def some_function():\n",
    "    print(\"1~10 사이의 수를 입력하세요: \")\n",
    "    num = int(input()) #사용자로부터 데이터를 입력받도록 함.\n",
    "    \n",
    "    if num < 1 or num > 10:\n",
    "        raise Exception(f\"유효하지 않은 숫자입니다. : {num}\")\n",
    "    else:\n",
    "        print(f\"입력한 수는 {num}입니다.\")"
   ]
  },
  {
   "cell_type": "code",
   "execution_count": 19,
   "id": "2a1c6218",
   "metadata": {},
   "outputs": [
    {
     "name": "stdout",
     "output_type": "stream",
     "text": [
      "1~10 사이의 수를 입력하세요: \n",
      "hong\n",
      "예외가 발생했습니다. : invalid literal for int() with base 10: 'hong'\n",
      "프로그램 종료\n"
     ]
    }
   ],
   "source": [
    "try:\n",
    "    some_function()\n",
    "except Exception as e:\n",
    "    print(f\"예외가 발생했습니다. : {e}\")\n",
    "    \n",
    "print(\"프로그램 종료\")"
   ]
  },
  {
   "cell_type": "code",
   "execution_count": 22,
   "id": "c2c30c1e",
   "metadata": {},
   "outputs": [],
   "source": [
    "def some_function_caller():\n",
    "    try:\n",
    "        some_function()\n",
    "    except Exception as e:\n",
    "        print(f\"(1) 예외가 발생했습니다. {e}\")\n",
    "        raise #예외가 발생하면 예외를 던지도록 함 => 실행이 되어지면 복귀를 하러가서 except를 실행하러 갈 것이다."
   ]
  },
  {
   "cell_type": "code",
   "execution_count": 24,
   "id": "a80e9d69",
   "metadata": {},
   "outputs": [
    {
     "name": "stdout",
     "output_type": "stream",
     "text": [
      "1~10 사이의 수를 입력하세요: \n",
      "15\n",
      "(1) 예외가 발생했습니다. 유효하지 않은 숫자입니다. : 15\n",
      "(2) 예외가 발생했습니다.유효하지 않은 숫자입니다. : 15\n"
     ]
    }
   ],
   "source": [
    "try:\n",
    "    some_function_caller()\n",
    "\n",
    "except Exception as e:\n",
    "    print(f\"(2) 예외가 발생했습니다.{e}\") \n",
    "    #예외를 던져주고 있는 객체를 통해서 메시지를 e라고 하는 매개변수에 해당 정보가 입력될 것임"
   ]
  },
  {
   "cell_type": "markdown",
   "id": "92c8ea2c",
   "metadata": {},
   "source": [
    "## - 사용자 정의 예외 형식\n",
    "##### 사용자 정의 예외 처리 => 자바처럼 형식을 제공해주고 있음"
   ]
  },
  {
   "cell_type": "code",
   "execution_count": 25,
   "id": "8c9202de",
   "metadata": {},
   "outputs": [],
   "source": [
    "#자바에서는 나이를 입력해서 범위안에 들어오는 나이데이터가 아닐때 우리가 정의한 클래스에 예외 인스턴스를 생성해서 처리했었음\n",
    "\n",
    "class MyException(Exception): #예외처리의 기능을 탑제하고 싶을 때 상속의 구조로 만들어주도록 하면 됨\n",
    "    def __init__(self):\n",
    "        #부모에 접근하는 방법 -> super()\n",
    "        super().__init__(\"MyException이 발생했습니다.\") \n",
    "        #예외 부모 생성자를 호출하면서 입력으로 메시지를 넣어주게 되면\n",
    "        #예외를 발생시킬 때 파이썬이 우리가 전달한 메시지를 except예외를 처리하면서 매개변수로 선언한 as이후에 e매개변수에 담아주게 됨"
   ]
  },
  {
   "cell_type": "code",
   "execution_count": 26,
   "id": "b80794ce",
   "metadata": {},
   "outputs": [
    {
     "ename": "MyException",
     "evalue": "MyException이 발생했습니다.",
     "output_type": "error",
     "traceback": [
      "\u001b[1;31m---------------------------------------------------------------------------\u001b[0m",
      "\u001b[1;31mMyException\u001b[0m                               Traceback (most recent call last)",
      "Cell \u001b[1;32mIn[26], line 4\u001b[0m\n\u001b[0;32m      1\u001b[0m everythis_is_fine \u001b[38;5;241m=\u001b[39m \u001b[38;5;28;01mFalse\u001b[39;00m\n\u001b[0;32m      3\u001b[0m \u001b[38;5;28;01mif\u001b[39;00m everythis_is_fine \u001b[38;5;241m==\u001b[39m \u001b[38;5;28;01mFalse\u001b[39;00m:\n\u001b[1;32m----> 4\u001b[0m     \u001b[38;5;28;01mraise\u001b[39;00m MyException()\n",
      "\u001b[1;31mMyException\u001b[0m: MyException이 발생했습니다."
     ]
    }
   ],
   "source": [
    "everythis_is_fine = False\n",
    "\n",
    "if everythis_is_fine == False:\n",
    "    raise MyException()"
   ]
  },
  {
   "cell_type": "code",
   "execution_count": 1,
   "id": "c345ad6b",
   "metadata": {},
   "outputs": [],
   "source": [
    "class InvalidIntException(Exception):\n",
    "    def __init__(self, arg):\n",
    "        super().__init__(f\"정수가 아닙니다 : {arg}\") #예외가 발생했을 때 출력하고 싶은 메시지를 입력으로 넣어준 것임\n",
    "\n",
    "def convert_to_integer(text):\n",
    "    if text.isdigit(): #숫자형 문자열인지를 확인!!\n",
    "        return int(text) #숫자로 형변환을 함\n",
    "    else:\n",
    "        raise InvalidIntException(text) #숫자형 문자열이 아니면 강제로 예외 발생!!"
   ]
  },
  {
   "cell_type": "code",
   "execution_count": 3,
   "id": "50b3b466",
   "metadata": {},
   "outputs": [
    {
     "name": "stdout",
     "output_type": "stream",
     "text": [
      "(사용자 정의 예외)숫자를 입력하세요: \n",
      "#$\n",
      "예외가 발생했습니다(정수가 아닙니다 : #$).\n",
      "프로그램 종료\n"
     ]
    }
   ],
   "source": [
    "try:\n",
    "    print(\"(사용자 정의 예외)숫자를 입력하세요: \")\n",
    "    text = input()\n",
    "    number = convert_to_integer(text) \n",
    "    \n",
    "except InvalidIntException as e:\n",
    "    print(f\"예외가 발생했습니다({e}).\")\n",
    "else:\n",
    "    print(f\"정수 형식으로 변환되었습니다: {number}(type(number))\") #사용자가 입력한 숫자값과 type을 출력하게끔 구성함\n",
    "    \n",
    "\n",
    "print(\"프로그램 종료\")"
   ]
  },
  {
   "cell_type": "code",
   "execution_count": null,
   "id": "540ebbdb",
   "metadata": {},
   "outputs": [],
   "source": []
  }
 ],
 "metadata": {
  "kernelspec": {
   "display_name": "Python [conda env:tf_cpu] *",
   "language": "python",
   "name": "conda-env-tf_cpu-py"
  },
  "language_info": {
   "codemirror_mode": {
    "name": "ipython",
    "version": 3
   },
   "file_extension": ".py",
   "mimetype": "text/x-python",
   "name": "python",
   "nbconvert_exporter": "python",
   "pygments_lexer": "ipython3",
   "version": "3.8.16"
  }
 },
 "nbformat": 4,
 "nbformat_minor": 5
}
