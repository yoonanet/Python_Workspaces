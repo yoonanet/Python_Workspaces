{
 "cells": [
  {
   "cell_type": "code",
   "execution_count": 1,
   "id": "4fbb5ee5",
   "metadata": {},
   "outputs": [],
   "source": [
    "# file에 data를 write 하기.\n",
    "#open함수에는 mode 파라메타를 비롯하여 추가적인 파라메타들이 정의되어져 있음 => 또한 다 초기화되어져 있음.\n",
    "#open이라는 함수를 사용할 때 스트림을 연결하고자 하는 파일에 대한 이름만 넣어줘도 문제없이 디폴트값으로 동작이 되어지게끔 선언되어짐\n",
    "#파라메타 중에서 mode(스트림 용도에 따른 설정을 해줘야함)하나는 꼭 신경을 쓰고 있도록 하자 \n",
    "#-> r: 읽기용(파일이 존재하지 않으면 새롭게 생성해서 연결통로를 만들어줌), x(파일이 존재하고 있으면 기존 파일이 손상되어지는 일이 없도록 에러 출력):읽기용\n",
    "#   w: 쓰기용(파일이 존재하고 있다면 파일에 이미 저장된 모든 내용을 지워버리면서 파일에 스트림을 열어줌), a: 쓰기용(기존에 파일이 존재할 경우 데이터를 비우지 않고 뒤에부터 내용을 첨부하여 처리)\n",
    "#   b: 바이너리 모드(바이트단위로 처리되어지는 형식), t: 텍스트 모드로 데이터 처리(자바 read writer가 있었음)\n",
    "#   +: 읽기 / 쓰기용으로 파일 읽기 => 파이썬이 read와 write의 스트림을 동시에 생성해줌\n",
    "\n",
    "\n",
    "file = open('test.txt', mode='wt') #스트림을 연결해주는 동작 \n",
    "#텍스트 형태로 데이터를 쓸꺼라는 의미로 wt키워드를 넣음. 파일이 존재하지 않으면 새롭게 생성하고 파일이 존재하면 기존 존재하는 내용을 싹다 지워버리고 데이터를 넣을 준비를 하게됨\n",
    "#open은 스트림과 관련된 정보 처리들도 다 리턴해줌.\n",
    "file.write(\"hello\")\n",
    "file.close()\n"
   ]
  },
  {
   "cell_type": "code",
   "execution_count": 4,
   "id": "9c944205",
   "metadata": {},
   "outputs": [
    {
     "name": "stdout",
     "output_type": "stream",
     "text": [
      "hello\n"
     ]
    }
   ],
   "source": [
    "# file에 data를 read하기.\n",
    "\n",
    "file = open('test.txt', mode='rt') #텍스트데이터를 읽어올 때는 rt로 mode지정 # open('test.txt')\n",
    "str = file.read()\n",
    "print(str)\n",
    "file.close()\n",
    "\n",
    "#위 코드를 작성하면서 발생하는 문제점 \n",
    "#실질적인 프로젝트 규모의 파일을 write할 때는 하나의 파일만 가져오는 경우가 거의 없음\n",
    "#또한, 파일 안에 데이터를 저장할 때 간단한 값만 저장하지 않고 대량의 데이터를 넣게 되고 수시로 write동작이 일어남\n",
    "#하나의 소스파일로 끝나는 것이 아닌 함수에 함수를 호출하는 복잡한 구조가 형성되게 됨\n",
    "#이때, 작성이 끝난 이후에 close를 해줘야 하는데 복잡한 코드에서 누락되는 상황이 빈번하게 발생함!!\n",
    "#연결된 스트림을 끊어줘야 할당된 메모리까지 close를 해줘야 메모리의 재사용이 가능한 것.\n",
    "#(open만 계속하고 소멸을 시켜주지 않게 되면 더이상 메모리가 여유분이 남지 않게 되고, 시스템이 멈춰버림 -> 원인을 찾아서 수정하는 작업이 번거롭고 어려움)\n",
    "#파이썬에서는 감시하고 있다가 open된 파일이 사용되고 있지 않으면 소멸시켜주는 기능을 추가적으로 제공해줌!!"
   ]
  },
  {
   "cell_type": "code",
   "execution_count": null,
   "id": "df23d428",
   "metadata": {},
   "outputs": [],
   "source": []
  }
 ],
 "metadata": {
  "kernelspec": {
   "display_name": "Python [conda env:tf_cpu] *",
   "language": "python",
   "name": "conda-env-tf_cpu-py"
  },
  "language_info": {
   "codemirror_mode": {
    "name": "ipython",
    "version": 3
   },
   "file_extension": ".py",
   "mimetype": "text/x-python",
   "name": "python",
   "nbconvert_exporter": "python",
   "pygments_lexer": "ipython3",
   "version": "3.8.16"
  }
 },
 "nbformat": 4,
 "nbformat_minor": 5
}
