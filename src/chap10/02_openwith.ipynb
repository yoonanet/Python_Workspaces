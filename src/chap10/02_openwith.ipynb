{
 "cells": [
  {
   "cell_type": "code",
   "execution_count": 1,
   "id": "2df6e42f",
   "metadata": {},
   "outputs": [],
   "source": [
    "# 자주 만나게 될 file관련된 코드!! \n",
    "# file = open('test.txt', mode='wt') \n",
    "\n",
    "with open('test.txt', 'w+t') as file: \n",
    "    file.write('python')\n",
    "    #파일을 close해주는 동작이 없음 -> close하는 동작은 파이썬이 대신 해주는 것임(적절한 시점에 파이썬이 알아서 소멸시키는 것)"
   ]
  },
  {
   "cell_type": "code",
   "execution_count": 2,
   "id": "ed1e4217",
   "metadata": {},
   "outputs": [],
   "source": [
    "with open('test.txt', 'a+t') as file: \n",
    "    file.write(', World') #기존 파일 텍스트 데이터 뒤에 입력의 내용을 붙여줌\n",
    "    #'+'는 두 가지의 스트림모드가 동시에 열리는 것임"
   ]
  },
  {
   "cell_type": "code",
   "execution_count": 3,
   "id": "3b263248",
   "metadata": {},
   "outputs": [
    {
     "name": "stdout",
     "output_type": "stream",
     "text": [
      "python, World\n"
     ]
    }
   ],
   "source": [
    "with open('test.txt', 'r+t') as file: \n",
    "    str = file.read()\n",
    "    print(str)"
   ]
  },
  {
   "cell_type": "markdown",
   "id": "e4f3f14c",
   "metadata": {},
   "source": [
    "## 텍스트 파일 읽기 / 쓰기\n",
    "#### 1. 문자열을 담은 리스트를 파일에 쓰는 writelines() 메소드 (하나의 문단 단위로 데이터를 쓰면서 퍼포먼스를 향상시킴)"
   ]
  },
  {
   "cell_type": "code",
   "execution_count": 4,
   "id": "f0783ad6",
   "metadata": {},
   "outputs": [],
   "source": [
    "lines = [\"we'll find a way we always have - Interstellar\\n\",\n",
    "         \"I'll find you and I'll kill you - Taken\\n\",\n",
    "         \"I'll be back - Terminator 2\\n\"] #영화의 주요 대사"
   ]
  },
  {
   "cell_type": "code",
   "execution_count": 5,
   "id": "5190d542",
   "metadata": {},
   "outputs": [],
   "source": [
    "with open('movie_quotes1.txt', 'w') as file: #별도의 처리 데이터를 지정하지 않으면 텍스트로 처리될 것이다. => wt로 처리됨\n",
    "    for line in lines:\n",
    "        file.write(line) #이렇게 반복문을 돌게 되면 단어의 여백 단위로 데이터를 읽어와서 쓰기 때문에 퍼포먼스 측면에서 상당히 느리게 동작"
   ]
  },
  {
   "cell_type": "code",
   "execution_count": 6,
   "id": "6254c048",
   "metadata": {},
   "outputs": [],
   "source": [
    "with open('movie_quotes2.txt', 'w') as file:\n",
    "    file.writelines(lines) #\\n(Enter)을 만나는 단위로 텍스트들이 처리됨 -> 퍼포먼스적으로 높은 처리를 구현할 수 있음\n",
    "    \n",
    "#현재 실행했을 때는 별차이가 없지만 아주 많은 양의 데이터를 처리할 때는 속도차이가 나게됨    "
   ]
  },
  {
   "cell_type": "markdown",
   "id": "b26ab20d",
   "metadata": {},
   "source": [
    "#### 2. 줄 단위로 텍스트를 읽는 readline() & readlines() 메소드"
   ]
  },
  {
   "cell_type": "code",
   "execution_count": 7,
   "id": "eeda641a",
   "metadata": {},
   "outputs": [
    {
     "name": "stdout",
     "output_type": "stream",
     "text": [
      "we'll find a way we always have - Interstellar\n",
      "I'll find you and I'll kill you - Taken\n",
      "I'll be back - Terminator 2\n"
     ]
    }
   ],
   "source": [
    "with open('movie_quotes1.txt', 'r') as file:\n",
    "    line = file.readline()\n",
    "    #읽어온 값이 \\n일 경우에는 줄바꿈으로 인식돼서 동작이 되어지기 때문에 line단위로 읽어오도록 함\n",
    "    \n",
    "    while line != '':  #비어있지 않을 때\n",
    "        print(line, end='')\n",
    "        line = file.readline() "
   ]
  },
  {
   "cell_type": "code",
   "execution_count": 8,
   "id": "6b04d1e6",
   "metadata": {},
   "outputs": [
    {
     "name": "stdout",
     "output_type": "stream",
     "text": [
      "we'll find a way we always have - Interstellar\n",
      "I'll find you and I'll kill you - Taken\n",
      "I'll be back - Terminator 2\n"
     ]
    }
   ],
   "source": [
    "with open('movie_quotes1.txt', 'r') as file:\n",
    "    line = '' #빈문자열로 초기화\n",
    "    lines = file.readlines() #연결된 데이터를 한번에 읽어와서 처리를 수행하게끔 할 수 있다.\n",
    "    \n",
    "    for line in lines:\n",
    "        print(line, end='') #스페이스단위의 데이터를 꺼내와서 출력하도록 한 것이다."
   ]
  },
  {
   "cell_type": "code",
   "execution_count": null,
   "id": "ca50d03f",
   "metadata": {},
   "outputs": [],
   "source": [
    "#파이썬에서는 아주 가볍고 심플하게 제공해주는 SQLite를 모듈안에 포함을 시켜서 제공을 해주고 있다.\n",
    "#DB에 필요한 핵심기능들을 그대로 제공해주고 있는 데이터베이스이기 때문에 SQLite를 활용하도록 할 것임"
   ]
  }
 ],
 "metadata": {
  "kernelspec": {
   "display_name": "Python [conda env:tf_cpu] *",
   "language": "python",
   "name": "conda-env-tf_cpu-py"
  },
  "language_info": {
   "codemirror_mode": {
    "name": "ipython",
    "version": 3
   },
   "file_extension": ".py",
   "mimetype": "text/x-python",
   "name": "python",
   "nbconvert_exporter": "python",
   "pygments_lexer": "ipython3",
   "version": "3.8.16"
  }
 },
 "nbformat": 4,
 "nbformat_minor": 5
}
