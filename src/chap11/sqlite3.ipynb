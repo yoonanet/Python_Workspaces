{
 "cells": [
  {
   "cell_type": "markdown",
   "id": "53d1c3a8",
   "metadata": {},
   "source": [
    "# 파이썬 - SQLite 연동 절차"
   ]
  },
  {
   "cell_type": "code",
   "execution_count": 6,
   "id": "60a3eb40",
   "metadata": {},
   "outputs": [
    {
     "data": {
      "text/plain": [
       "<sqlite3.Cursor at 0x2bbfaa76d50>"
      ]
     },
     "execution_count": 6,
     "metadata": {},
     "output_type": "execute_result"
    }
   ],
   "source": [
    "import sqlite3 #파이썬은 2버전(더 이상 지원을 하지 않음)이 있고, 3버전이 있음 / 파이썬3에는 SQLite 라이브러리가 기본 탑재\n",
    "\n",
    "# test.db 파일 안에 phonebook 테이블 생성 \n",
    "# 테이블을 생성할 때는 테이블을 관리할 DB의 파일부터 생성을 해줘야 한다. 확장자가 db인 파일을 어떻게 생성할 수 있을까? connect함수를 통해 생성\n",
    "conn = sqlite3.connect('test.db') #연결객체를 반환해줌\n",
    "\n",
    "cursor = conn.cursor() #cursor: 오라클DB에서의 마지막 plsql, 데이터베이스는 단일 쿼리문으로 데이터를 주고받는 형식으로 처리가 되어짐. \n",
    "#오라클데이터베이스는 단일 쿼리문으로 끝나는 것이 아니라 명령문들을 작성해서 데이터들의 처리가 가능한 구문을 제공해주고 있었음 \n",
    "#프로그래밍에서 제공해주는 구문들을 데이터베이스에서도 제공해주고 있었음. 그때 제공되는 구문들을 plsql이라고 함(절차적프로그래밍언어)\n",
    "#그때 select문을 전송하면 select문에 해당하는 데이터를 DB가 리턴해주는 plsql에서는 그 데이터를 cursor의 단위로 레코드 단위로 반환해주고 있었음 (jsbc에서는 resultset!!)\n",
    "\n",
    "#cursor는 연결객체를 통해서 실질적인 데이터를 조작할 수있음\n",
    "#cursor에서 제공하는 execute메소드에 쿼리문을 넣어주면 됨\n",
    "cursor.execute('create table phonebook('\n",
    "               'name char(30), phone char(30), email char(60) primary key)'\n",
    "               ) #줄바꿈이 이루어지는 순간 문자열로 인식하지 못함 -> 라인바이라인으로 각각 처리를해주면 됨\n"
   ]
  },
  {
   "cell_type": "code",
   "execution_count": 7,
   "id": "11df589c",
   "metadata": {},
   "outputs": [
    {
     "name": "stdout",
     "output_type": "stream",
     "text": [
      "1\n",
      "2\n"
     ]
    }
   ],
   "source": [
    "# 데이터 삽입\n",
    "cursor.execute('''\n",
    "    insert into phonebook(name, phone, email) values(?, ?, ?)\n",
    "    ''', ('박명수', '010-1111-1111', 'myongsoo@company.com')) #튜플의 형태로 데이터를 담아주면 됨  \n",
    "\n",
    "print(cursor.lastrowid) # 필드의 값을 출력 / 마지막 rowdata의 id를 가지고 있는 필드의 의미 - 마지막으로 추가되거나 변경된 레코드 번호\n",
    "\n",
    "cursor.execute('''\n",
    "    insert into phonebook(name, phone, email) values(?, ?, ?)\n",
    "    ''', ('유재석', '010-2222-2222', 'jaesuk@company.com'))\n",
    "\n",
    "print(cursor.lastrowid)\n",
    "\n",
    "conn.commit() #데이터베이스에 바로 반영이 되게끔 트랜잭션 기능에서 commit 명령을 활용하도록 함."
   ]
  },
  {
   "cell_type": "code",
   "execution_count": 4,
   "id": "df8e1adf",
   "metadata": {},
   "outputs": [
    {
     "name": "stdout",
     "output_type": "stream",
     "text": [
      "name:유재석, phone:010-2222-2222, email:jaesuk@company.com\n"
     ]
    }
   ],
   "source": [
    "# 데이터 읽어오기\n",
    "\n",
    "cursor.execute('select * from phonebook') #쿼리에 부합하는 데이터를 반환해주게 됨\n",
    "\n",
    "rows = cursor.fetchall() #반환된 데이터의 메모리 주소값을 반환해줌 \n",
    "\n",
    "for row in rows:\n",
    "    print(f\"name:{row[0]}, phone:{row[1]}, email:{row[2]}\")"
   ]
  },
  {
   "cell_type": "code",
   "execution_count": 1,
   "id": "b4bd4a75",
   "metadata": {},
   "outputs": [],
   "source": [
    "#import sqlite3 \n",
    "\n",
    "# 데이터 수정하기 (데이터 삽입 동작과 동일)\n",
    "#conn = sqlite3.connect('test.db') \n",
    "\n",
    "#cursor = conn.cursor() \n",
    "\n",
    "cursor.execute('''\n",
    "    update phonebook set phone = ?, email = ? where name = ?\n",
    "    ''', ('010-5555-5555', 'parkms@company.com', '박명수'))\n",
    "\n",
    "conn.commit()"
   ]
  },
  {
   "cell_type": "code",
   "execution_count": 3,
   "id": "46899f9f",
   "metadata": {},
   "outputs": [],
   "source": [
    "# 데이터 삭제하기\n",
    "\n",
    "cursor.execute('''\n",
    "    delete from phonebook where email = ?\n",
    "    ''', ('parkms@company.com', )) #주의) ?에 컬럼 값을 넣을때 꼭 튜플형태여야 함!! 또한, 하나의 값으로 튜플을 전달해야할 때 맨 뒤에 콤마(,)를 넣어줘야 함\n",
    "\n",
    "conn.commit() #DB에 최종적인 반영하도록 함"
   ]
  },
  {
   "cell_type": "code",
   "execution_count": 5,
   "id": "98c4da9a",
   "metadata": {},
   "outputs": [],
   "source": [
    "cursor.close() #쿼리문 수행이 끝나면 각각 close를 시켜주도록 한다.\n",
    "conn.close()"
   ]
  },
  {
   "cell_type": "code",
   "execution_count": null,
   "id": "7e886893",
   "metadata": {},
   "outputs": [],
   "source": []
  }
 ],
 "metadata": {
  "kernelspec": {
   "display_name": "Python [conda env:tf_cpu] *",
   "language": "python",
   "name": "conda-env-tf_cpu-py"
  },
  "language_info": {
   "codemirror_mode": {
    "name": "ipython",
    "version": 3
   },
   "file_extension": ".py",
   "mimetype": "text/x-python",
   "name": "python",
   "nbconvert_exporter": "python",
   "pygments_lexer": "ipython3",
   "version": "3.8.16"
  }
 },
 "nbformat": 4,
 "nbformat_minor": 5
}
